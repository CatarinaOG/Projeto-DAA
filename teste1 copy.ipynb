{
 "cells": [
  {
   "cell_type": "code",
   "execution_count": 1,
   "metadata": {},
   "outputs": [],
   "source": [
    "import pandas as pd\n",
    "import numpy as np\n",
    "import matplotlib.pyplot as plt\n",
    "import seaborn as sns\n",
    "%matplotlib inline"
   ]
  },
  {
   "cell_type": "code",
   "execution_count": 2,
   "metadata": {},
   "outputs": [],
   "source": [
    "data = pd.read_csv(\"training_data.csv\")\n",
    "test_data = pd.read_csv(\"test_data.csv\")"
   ]
  },
  {
   "cell_type": "code",
   "execution_count": 3,
   "metadata": {},
   "outputs": [
    {
     "name": "stdout",
     "output_type": "stream",
     "text": [
      "<class 'pandas.core.frame.DataFrame'>\n",
      "RangeIndex: 5000 entries, 0 to 4999\n",
      "Data columns (total 13 columns):\n",
      " #   Column              Non-Null Count  Dtype  \n",
      "---  ------              --------------  -----  \n",
      " 0   city_name           5000 non-null   object \n",
      " 1   magnitude_of_delay  5000 non-null   object \n",
      " 2   delay_in_seconds    5000 non-null   int64  \n",
      " 3   affected_roads      4915 non-null   object \n",
      " 4   record_date         5000 non-null   object \n",
      " 5   luminosity          5000 non-null   object \n",
      " 6   avg_temperature     5000 non-null   float64\n",
      " 7   avg_atm_pressure    5000 non-null   float64\n",
      " 8   avg_humidity        5000 non-null   float64\n",
      " 9   avg_wind_speed      5000 non-null   float64\n",
      " 10  avg_precipitation   5000 non-null   float64\n",
      " 11  avg_rain            5000 non-null   object \n",
      " 12  incidents           5000 non-null   object \n",
      "dtypes: float64(5), int64(1), object(7)\n",
      "memory usage: 507.9+ KB\n"
     ]
    }
   ],
   "source": [
    "data.info()"
   ]
  },
  {
   "cell_type": "code",
   "execution_count": 4,
   "metadata": {},
   "outputs": [
    {
     "data": {
      "text/html": [
       "<div>\n",
       "<style scoped>\n",
       "    .dataframe tbody tr th:only-of-type {\n",
       "        vertical-align: middle;\n",
       "    }\n",
       "\n",
       "    .dataframe tbody tr th {\n",
       "        vertical-align: top;\n",
       "    }\n",
       "\n",
       "    .dataframe thead th {\n",
       "        text-align: right;\n",
       "    }\n",
       "</style>\n",
       "<table border=\"1\" class=\"dataframe\">\n",
       "  <thead>\n",
       "    <tr style=\"text-align: right;\">\n",
       "      <th></th>\n",
       "      <th>delay_in_seconds</th>\n",
       "      <th>avg_temperature</th>\n",
       "      <th>avg_atm_pressure</th>\n",
       "      <th>avg_humidity</th>\n",
       "      <th>avg_wind_speed</th>\n",
       "      <th>avg_precipitation</th>\n",
       "    </tr>\n",
       "  </thead>\n",
       "  <tbody>\n",
       "    <tr>\n",
       "      <th>count</th>\n",
       "      <td>5000.000000</td>\n",
       "      <td>5000.000000</td>\n",
       "      <td>5000.000000</td>\n",
       "      <td>5000.000000</td>\n",
       "      <td>5000.000000</td>\n",
       "      <td>5000.0</td>\n",
       "    </tr>\n",
       "    <tr>\n",
       "      <th>mean</th>\n",
       "      <td>560.567000</td>\n",
       "      <td>14.583000</td>\n",
       "      <td>1018.145000</td>\n",
       "      <td>74.455000</td>\n",
       "      <td>1.253500</td>\n",
       "      <td>0.0</td>\n",
       "    </tr>\n",
       "    <tr>\n",
       "      <th>std</th>\n",
       "      <td>1686.859581</td>\n",
       "      <td>4.820514</td>\n",
       "      <td>5.174372</td>\n",
       "      <td>17.204638</td>\n",
       "      <td>1.269847</td>\n",
       "      <td>0.0</td>\n",
       "    </tr>\n",
       "    <tr>\n",
       "      <th>min</th>\n",
       "      <td>0.000000</td>\n",
       "      <td>1.000000</td>\n",
       "      <td>997.000000</td>\n",
       "      <td>6.000000</td>\n",
       "      <td>0.000000</td>\n",
       "      <td>0.0</td>\n",
       "    </tr>\n",
       "    <tr>\n",
       "      <th>25%</th>\n",
       "      <td>0.000000</td>\n",
       "      <td>11.000000</td>\n",
       "      <td>1015.000000</td>\n",
       "      <td>63.000000</td>\n",
       "      <td>0.000000</td>\n",
       "      <td>0.0</td>\n",
       "    </tr>\n",
       "    <tr>\n",
       "      <th>50%</th>\n",
       "      <td>0.000000</td>\n",
       "      <td>14.000000</td>\n",
       "      <td>1019.000000</td>\n",
       "      <td>78.000000</td>\n",
       "      <td>1.000000</td>\n",
       "      <td>0.0</td>\n",
       "    </tr>\n",
       "    <tr>\n",
       "      <th>75%</th>\n",
       "      <td>234.000000</td>\n",
       "      <td>18.000000</td>\n",
       "      <td>1022.000000</td>\n",
       "      <td>90.000000</td>\n",
       "      <td>2.000000</td>\n",
       "      <td>0.0</td>\n",
       "    </tr>\n",
       "    <tr>\n",
       "      <th>max</th>\n",
       "      <td>31083.000000</td>\n",
       "      <td>35.000000</td>\n",
       "      <td>1032.000000</td>\n",
       "      <td>100.000000</td>\n",
       "      <td>10.000000</td>\n",
       "      <td>0.0</td>\n",
       "    </tr>\n",
       "  </tbody>\n",
       "</table>\n",
       "</div>"
      ],
      "text/plain": [
       "       delay_in_seconds  avg_temperature  avg_atm_pressure  avg_humidity  \\\n",
       "count       5000.000000      5000.000000       5000.000000   5000.000000   \n",
       "mean         560.567000        14.583000       1018.145000     74.455000   \n",
       "std         1686.859581         4.820514          5.174372     17.204638   \n",
       "min            0.000000         1.000000        997.000000      6.000000   \n",
       "25%            0.000000        11.000000       1015.000000     63.000000   \n",
       "50%            0.000000        14.000000       1019.000000     78.000000   \n",
       "75%          234.000000        18.000000       1022.000000     90.000000   \n",
       "max        31083.000000        35.000000       1032.000000    100.000000   \n",
       "\n",
       "       avg_wind_speed  avg_precipitation  \n",
       "count     5000.000000             5000.0  \n",
       "mean         1.253500                0.0  \n",
       "std          1.269847                0.0  \n",
       "min          0.000000                0.0  \n",
       "25%          0.000000                0.0  \n",
       "50%          1.000000                0.0  \n",
       "75%          2.000000                0.0  \n",
       "max         10.000000                0.0  "
      ]
     },
     "execution_count": 4,
     "metadata": {},
     "output_type": "execute_result"
    }
   ],
   "source": [
    "data.describe()"
   ]
  },
  {
   "cell_type": "markdown",
   "metadata": {},
   "source": [
    "Como as colunas city_name e avg_precipitation possuem apenas 1 valor, podemos retirá-las, já que não vão ter nenhuma influência na previsão"
   ]
  },
  {
   "cell_type": "code",
   "execution_count": 5,
   "metadata": {},
   "outputs": [],
   "source": [
    "data.nunique()\n",
    "\n",
    "\n",
    "\n",
    "data2 = data.drop(['city_name', 'avg_precipitation'], axis=1)\n",
    "test_data2 = test_data.drop(['city_name', 'avg_precipitation'], axis=1)"
   ]
  },
  {
   "cell_type": "code",
   "execution_count": 6,
   "metadata": {},
   "outputs": [
    {
     "data": {
      "text/html": [
       "<div>\n",
       "<style scoped>\n",
       "    .dataframe tbody tr th:only-of-type {\n",
       "        vertical-align: middle;\n",
       "    }\n",
       "\n",
       "    .dataframe tbody tr th {\n",
       "        vertical-align: top;\n",
       "    }\n",
       "\n",
       "    .dataframe thead th {\n",
       "        text-align: right;\n",
       "    }\n",
       "</style>\n",
       "<table border=\"1\" class=\"dataframe\">\n",
       "  <thead>\n",
       "    <tr style=\"text-align: right;\">\n",
       "      <th></th>\n",
       "      <th>magnitude_of_delay</th>\n",
       "      <th>delay_in_seconds</th>\n",
       "      <th>affected_roads</th>\n",
       "      <th>record_date</th>\n",
       "      <th>luminosity</th>\n",
       "      <th>avg_temperature</th>\n",
       "      <th>avg_atm_pressure</th>\n",
       "      <th>avg_humidity</th>\n",
       "      <th>avg_wind_speed</th>\n",
       "      <th>avg_rain</th>\n",
       "      <th>incidents</th>\n",
       "    </tr>\n",
       "  </thead>\n",
       "  <tbody>\n",
       "    <tr>\n",
       "      <th>0</th>\n",
       "      <td>UNDEFINED</td>\n",
       "      <td>0</td>\n",
       "      <td>,</td>\n",
       "      <td>2021-03-15 23:00</td>\n",
       "      <td>DARK</td>\n",
       "      <td>12.0</td>\n",
       "      <td>1013.0</td>\n",
       "      <td>70.0</td>\n",
       "      <td>1.0</td>\n",
       "      <td>Sem Chuva</td>\n",
       "      <td>None</td>\n",
       "    </tr>\n",
       "    <tr>\n",
       "      <th>1</th>\n",
       "      <td>UNDEFINED</td>\n",
       "      <td>385</td>\n",
       "      <td>N101,</td>\n",
       "      <td>2021-12-25 18:00</td>\n",
       "      <td>DARK</td>\n",
       "      <td>12.0</td>\n",
       "      <td>1007.0</td>\n",
       "      <td>91.0</td>\n",
       "      <td>1.0</td>\n",
       "      <td>Sem Chuva</td>\n",
       "      <td>None</td>\n",
       "    </tr>\n",
       "    <tr>\n",
       "      <th>2</th>\n",
       "      <td>UNDEFINED</td>\n",
       "      <td>69</td>\n",
       "      <td>,</td>\n",
       "      <td>2021-03-12 15:00</td>\n",
       "      <td>LIGHT</td>\n",
       "      <td>14.0</td>\n",
       "      <td>1025.0</td>\n",
       "      <td>64.0</td>\n",
       "      <td>0.0</td>\n",
       "      <td>Sem Chuva</td>\n",
       "      <td>Low</td>\n",
       "    </tr>\n",
       "    <tr>\n",
       "      <th>3</th>\n",
       "      <td>MAJOR</td>\n",
       "      <td>2297</td>\n",
       "      <td>N101,R206,N105,N101,N101,N101,N101,N101,N101,N...</td>\n",
       "      <td>2021-09-29 09:00</td>\n",
       "      <td>LIGHT</td>\n",
       "      <td>15.0</td>\n",
       "      <td>1028.0</td>\n",
       "      <td>75.0</td>\n",
       "      <td>1.0</td>\n",
       "      <td>Sem Chuva</td>\n",
       "      <td>Very_High</td>\n",
       "    </tr>\n",
       "    <tr>\n",
       "      <th>4</th>\n",
       "      <td>UNDEFINED</td>\n",
       "      <td>0</td>\n",
       "      <td>N101,N101,N101,N101,N101,</td>\n",
       "      <td>2021-06-13 11:00</td>\n",
       "      <td>LIGHT</td>\n",
       "      <td>27.0</td>\n",
       "      <td>1020.0</td>\n",
       "      <td>52.0</td>\n",
       "      <td>1.0</td>\n",
       "      <td>Sem Chuva</td>\n",
       "      <td>High</td>\n",
       "    </tr>\n",
       "  </tbody>\n",
       "</table>\n",
       "</div>"
      ],
      "text/plain": [
       "  magnitude_of_delay  delay_in_seconds  \\\n",
       "0          UNDEFINED                 0   \n",
       "1          UNDEFINED               385   \n",
       "2          UNDEFINED                69   \n",
       "3              MAJOR              2297   \n",
       "4          UNDEFINED                 0   \n",
       "\n",
       "                                      affected_roads       record_date  \\\n",
       "0                                                  ,  2021-03-15 23:00   \n",
       "1                                              N101,  2021-12-25 18:00   \n",
       "2                                                  ,  2021-03-12 15:00   \n",
       "3  N101,R206,N105,N101,N101,N101,N101,N101,N101,N...  2021-09-29 09:00   \n",
       "4                          N101,N101,N101,N101,N101,  2021-06-13 11:00   \n",
       "\n",
       "  luminosity  avg_temperature  avg_atm_pressure  avg_humidity  avg_wind_speed  \\\n",
       "0       DARK             12.0            1013.0          70.0             1.0   \n",
       "1       DARK             12.0            1007.0          91.0             1.0   \n",
       "2      LIGHT             14.0            1025.0          64.0             0.0   \n",
       "3      LIGHT             15.0            1028.0          75.0             1.0   \n",
       "4      LIGHT             27.0            1020.0          52.0             1.0   \n",
       "\n",
       "    avg_rain  incidents  \n",
       "0  Sem Chuva       None  \n",
       "1  Sem Chuva       None  \n",
       "2  Sem Chuva        Low  \n",
       "3  Sem Chuva  Very_High  \n",
       "4  Sem Chuva       High  "
      ]
     },
     "execution_count": 6,
     "metadata": {},
     "output_type": "execute_result"
    }
   ],
   "source": [
    "data2.head()"
   ]
  },
  {
   "cell_type": "code",
   "execution_count": 7,
   "metadata": {},
   "outputs": [
    {
     "data": {
      "text/plain": [
       "magnitude_of_delay     0\n",
       "delay_in_seconds       0\n",
       "affected_roads        85\n",
       "record_date            0\n",
       "luminosity             0\n",
       "avg_temperature        0\n",
       "avg_atm_pressure       0\n",
       "avg_humidity           0\n",
       "avg_wind_speed         0\n",
       "avg_rain               0\n",
       "incidents              0\n",
       "dtype: int64"
      ]
     },
     "execution_count": 7,
     "metadata": {},
     "output_type": "execute_result"
    }
   ],
   "source": [
    "data2.isnull().sum()"
   ]
  },
  {
   "cell_type": "code",
   "execution_count": 8,
   "metadata": {},
   "outputs": [
    {
     "data": {
      "text/plain": [
       "<AxesSubplot:>"
      ]
     },
     "execution_count": 8,
     "metadata": {},
     "output_type": "execute_result"
    },
    {
     "data": {
      "image/png": "[encoded data removed]",
      "text/plain": [
       "<Figure size 640x480 with 1 Axes>"
      ]
     },
     "metadata": {},
     "output_type": "display_data"
    }
   ],
   "source": [
    "sns.heatmap(data2.isnull(), yticklabels=False, cbar=False, cmap='viridis')"
   ]
  },
  {
   "cell_type": "code",
   "execution_count": 9,
   "metadata": {},
   "outputs": [
    {
     "data": {
      "text/plain": [
       "<AxesSubplot:>"
      ]
     },
     "execution_count": 9,
     "metadata": {},
     "output_type": "execute_result"
    },
    {
     "data": {
      "image/png": "[encoded data removed]",
      "text/plain": [
       "<Figure size 640x480 with 1 Axes>"
      ]
     },
     "metadata": {},
     "output_type": "display_data"
    }
   ],
   "source": [
    "sns.heatmap(test_data2.isnull(), yticklabels=False, cbar=False, cmap='viridis')"
   ]
  },
  {
   "cell_type": "code",
   "execution_count": 10,
   "metadata": {},
   "outputs": [
    {
     "data": {
      "text/plain": [
       "0                                                    ,\n",
       "1                                                N101,\n",
       "2                                                    ,\n",
       "3    N101,R206,N105,N101,N101,N101,N101,N101,N101,N...\n",
       "4                            N101,N101,N101,N101,N101,\n",
       "Name: affected_roads, dtype: object"
      ]
     },
     "execution_count": 10,
     "metadata": {},
     "output_type": "execute_result"
    }
   ],
   "source": [
    "data2['affected_roads'].head()"
   ]
  },
  {
   "cell_type": "code",
   "execution_count": 11,
   "metadata": {},
   "outputs": [
    {
     "data": {
      "text/plain": [
       "<AxesSubplot:>"
      ]
     },
     "execution_count": 11,
     "metadata": {},
     "output_type": "execute_result"
    },
    {
     "data": {
      "image/png": "[encoded data removed]",
      "text/plain": [
       "<Figure size 640x480 with 1 Axes>"
      ]
     },
     "metadata": {},
     "output_type": "display_data"
    }
   ],
   "source": [
    "data3 = data2.dropna()\n",
    "sns.heatmap(data3.isnull(), yticklabels=False, cbar=False, cmap='viridis')"
   ]
  },
  {
   "cell_type": "markdown",
   "metadata": {},
   "source": [
    "Como os valores dos incidentes, a nossa label, são categóricos, estes não poderão ser submetidos à maioria dos modelos de ML disponíveis. Assim, teremos de convertê-los para valores numéricos"
   ]
  },
  {
   "cell_type": "code",
   "execution_count": 12,
   "metadata": {},
   "outputs": [
    {
     "data": {
      "text/html": [
       "<div>\n",
       "<style scoped>\n",
       "    .dataframe tbody tr th:only-of-type {\n",
       "        vertical-align: middle;\n",
       "    }\n",
       "\n",
       "    .dataframe tbody tr th {\n",
       "        vertical-align: top;\n",
       "    }\n",
       "\n",
       "    .dataframe thead th {\n",
       "        text-align: right;\n",
       "    }\n",
       "</style>\n",
       "<table border=\"1\" class=\"dataframe\">\n",
       "  <thead>\n",
       "    <tr style=\"text-align: right;\">\n",
       "      <th></th>\n",
       "      <th>magnitude_of_delay</th>\n",
       "      <th>delay_in_seconds</th>\n",
       "      <th>affected_roads</th>\n",
       "      <th>record_date</th>\n",
       "      <th>luminosity</th>\n",
       "      <th>avg_temperature</th>\n",
       "      <th>avg_atm_pressure</th>\n",
       "      <th>avg_humidity</th>\n",
       "      <th>avg_wind_speed</th>\n",
       "      <th>avg_rain</th>\n",
       "      <th>incidents</th>\n",
       "    </tr>\n",
       "  </thead>\n",
       "  <tbody>\n",
       "    <tr>\n",
       "      <th>0</th>\n",
       "      <td>UNDEFINED</td>\n",
       "      <td>0</td>\n",
       "      <td>,</td>\n",
       "      <td>2021-03-15 23:00</td>\n",
       "      <td>DARK</td>\n",
       "      <td>12.0</td>\n",
       "      <td>1013.0</td>\n",
       "      <td>70.0</td>\n",
       "      <td>1.0</td>\n",
       "      <td>Sem Chuva</td>\n",
       "      <td>0</td>\n",
       "    </tr>\n",
       "    <tr>\n",
       "      <th>1</th>\n",
       "      <td>UNDEFINED</td>\n",
       "      <td>385</td>\n",
       "      <td>N101,</td>\n",
       "      <td>2021-12-25 18:00</td>\n",
       "      <td>DARK</td>\n",
       "      <td>12.0</td>\n",
       "      <td>1007.0</td>\n",
       "      <td>91.0</td>\n",
       "      <td>1.0</td>\n",
       "      <td>Sem Chuva</td>\n",
       "      <td>0</td>\n",
       "    </tr>\n",
       "    <tr>\n",
       "      <th>2</th>\n",
       "      <td>UNDEFINED</td>\n",
       "      <td>69</td>\n",
       "      <td>,</td>\n",
       "      <td>2021-03-12 15:00</td>\n",
       "      <td>LIGHT</td>\n",
       "      <td>14.0</td>\n",
       "      <td>1025.0</td>\n",
       "      <td>64.0</td>\n",
       "      <td>0.0</td>\n",
       "      <td>Sem Chuva</td>\n",
       "      <td>1</td>\n",
       "    </tr>\n",
       "    <tr>\n",
       "      <th>3</th>\n",
       "      <td>MAJOR</td>\n",
       "      <td>2297</td>\n",
       "      <td>N101,R206,N105,N101,N101,N101,N101,N101,N101,N...</td>\n",
       "      <td>2021-09-29 09:00</td>\n",
       "      <td>LIGHT</td>\n",
       "      <td>15.0</td>\n",
       "      <td>1028.0</td>\n",
       "      <td>75.0</td>\n",
       "      <td>1.0</td>\n",
       "      <td>Sem Chuva</td>\n",
       "      <td>4</td>\n",
       "    </tr>\n",
       "    <tr>\n",
       "      <th>4</th>\n",
       "      <td>UNDEFINED</td>\n",
       "      <td>0</td>\n",
       "      <td>N101,N101,N101,N101,N101,</td>\n",
       "      <td>2021-06-13 11:00</td>\n",
       "      <td>LIGHT</td>\n",
       "      <td>27.0</td>\n",
       "      <td>1020.0</td>\n",
       "      <td>52.0</td>\n",
       "      <td>1.0</td>\n",
       "      <td>Sem Chuva</td>\n",
       "      <td>3</td>\n",
       "    </tr>\n",
       "  </tbody>\n",
       "</table>\n",
       "</div>"
      ],
      "text/plain": [
       "  magnitude_of_delay  delay_in_seconds  \\\n",
       "0          UNDEFINED                 0   \n",
       "1          UNDEFINED               385   \n",
       "2          UNDEFINED                69   \n",
       "3              MAJOR              2297   \n",
       "4          UNDEFINED                 0   \n",
       "\n",
       "                                      affected_roads       record_date  \\\n",
       "0                                                  ,  2021-03-15 23:00   \n",
       "1                                              N101,  2021-12-25 18:00   \n",
       "2                                                  ,  2021-03-12 15:00   \n",
       "3  N101,R206,N105,N101,N101,N101,N101,N101,N101,N...  2021-09-29 09:00   \n",
       "4                          N101,N101,N101,N101,N101,  2021-06-13 11:00   \n",
       "\n",
       "  luminosity  avg_temperature  avg_atm_pressure  avg_humidity  avg_wind_speed  \\\n",
       "0       DARK             12.0            1013.0          70.0             1.0   \n",
       "1       DARK             12.0            1007.0          91.0             1.0   \n",
       "2      LIGHT             14.0            1025.0          64.0             0.0   \n",
       "3      LIGHT             15.0            1028.0          75.0             1.0   \n",
       "4      LIGHT             27.0            1020.0          52.0             1.0   \n",
       "\n",
       "    avg_rain  incidents  \n",
       "0  Sem Chuva          0  \n",
       "1  Sem Chuva          0  \n",
       "2  Sem Chuva          1  \n",
       "3  Sem Chuva          4  \n",
       "4  Sem Chuva          3  "
      ]
     },
     "execution_count": 12,
     "metadata": {},
     "output_type": "execute_result"
    }
   ],
   "source": [
    "replace_map = {'incidents' : {'None': 0, 'Low': 1, 'Medium': 2, 'High': 3, 'Very_High':4}}\n",
    "\n",
    "data4 = data3.replace(replace_map)\n",
    "data4.head()"
   ]
  },
  {
   "cell_type": "markdown",
   "metadata": {},
   "source": [
    "Como podemos ver, agora o tipo do feature Incidents é numérico"
   ]
  },
  {
   "cell_type": "code",
   "execution_count": 13,
   "metadata": {},
   "outputs": [
    {
     "name": "stdout",
     "output_type": "stream",
     "text": [
      "<class 'pandas.core.frame.DataFrame'>\n",
      "Int64Index: 4915 entries, 0 to 4999\n",
      "Data columns (total 11 columns):\n",
      " #   Column              Non-Null Count  Dtype  \n",
      "---  ------              --------------  -----  \n",
      " 0   magnitude_of_delay  4915 non-null   object \n",
      " 1   delay_in_seconds    4915 non-null   int64  \n",
      " 2   affected_roads      4915 non-null   object \n",
      " 3   record_date         4915 non-null   object \n",
      " 4   luminosity          4915 non-null   object \n",
      " 5   avg_temperature     4915 non-null   float64\n",
      " 6   avg_atm_pressure    4915 non-null   float64\n",
      " 7   avg_humidity        4915 non-null   float64\n",
      " 8   avg_wind_speed      4915 non-null   float64\n",
      " 9   avg_rain            4915 non-null   object \n",
      " 10  incidents           4915 non-null   int64  \n",
      "dtypes: float64(4), int64(2), object(5)\n",
      "memory usage: 460.8+ KB\n"
     ]
    }
   ],
   "source": [
    "data4.info()"
   ]
  },
  {
   "cell_type": "markdown",
   "metadata": {},
   "source": [
    "Agora vamos tratar das datas"
   ]
  },
  {
   "cell_type": "code",
   "execution_count": 14,
   "metadata": {},
   "outputs": [
    {
     "data": {
      "text/plain": [
       "0    2021-03-15 23:00\n",
       "1    2021-12-25 18:00\n",
       "2    2021-03-12 15:00\n",
       "3    2021-09-29 09:00\n",
       "4    2021-06-13 11:00\n",
       "Name: record_date, dtype: object"
      ]
     },
     "execution_count": 14,
     "metadata": {},
     "output_type": "execute_result"
    }
   ],
   "source": [
    "data4['record_date'].head()"
   ]
  },
  {
   "cell_type": "code",
   "execution_count": 15,
   "metadata": {},
   "outputs": [],
   "source": [
    "data4['record_date'] = pd.to_datetime(data4['record_date'], format = \"%Y-%m-%d %H:%M\", errors='coerce')\n",
    "assert data4['record_date'].isnull().sum() == 0, 'missing record date'\n",
    "data4['record_date'].head()\n",
    "\n",
    "test_data2['record_date'] = pd.to_datetime(test_data2['record_date'], format = \"%Y-%m-%d %H:%M\", errors='coerce')"
   ]
  },
  {
   "cell_type": "code",
   "execution_count": 16,
   "metadata": {},
   "outputs": [
    {
     "data": {
      "text/html": [
       "<div>\n",
       "<style scoped>\n",
       "    .dataframe tbody tr th:only-of-type {\n",
       "        vertical-align: middle;\n",
       "    }\n",
       "\n",
       "    .dataframe tbody tr th {\n",
       "        vertical-align: top;\n",
       "    }\n",
       "\n",
       "    .dataframe thead th {\n",
       "        text-align: right;\n",
       "    }\n",
       "</style>\n",
       "<table border=\"1\" class=\"dataframe\">\n",
       "  <thead>\n",
       "    <tr style=\"text-align: right;\">\n",
       "      <th></th>\n",
       "      <th>magnitude_of_delay</th>\n",
       "      <th>delay_in_seconds</th>\n",
       "      <th>affected_roads</th>\n",
       "      <th>record_date</th>\n",
       "      <th>luminosity</th>\n",
       "      <th>avg_temperature</th>\n",
       "      <th>avg_atm_pressure</th>\n",
       "      <th>avg_humidity</th>\n",
       "      <th>avg_wind_speed</th>\n",
       "      <th>avg_rain</th>\n",
       "      <th>record_date_year</th>\n",
       "      <th>record_date_month</th>\n",
       "      <th>record_date_day</th>\n",
       "      <th>record_date_hour</th>\n",
       "      <th>record_date_minute</th>\n",
       "    </tr>\n",
       "  </thead>\n",
       "  <tbody>\n",
       "    <tr>\n",
       "      <th>0</th>\n",
       "      <td>UNDEFINED</td>\n",
       "      <td>1211</td>\n",
       "      <td>N101,N101,N101,N101,N101,N101,</td>\n",
       "      <td>2021-04-13 19:00:00</td>\n",
       "      <td>LIGHT</td>\n",
       "      <td>15.0</td>\n",
       "      <td>1018.0</td>\n",
       "      <td>80.0</td>\n",
       "      <td>0.0</td>\n",
       "      <td>Sem Chuva</td>\n",
       "      <td>2021</td>\n",
       "      <td>4</td>\n",
       "      <td>13</td>\n",
       "      <td>19</td>\n",
       "      <td>0</td>\n",
       "    </tr>\n",
       "    <tr>\n",
       "      <th>1</th>\n",
       "      <td>UNDEFINED</td>\n",
       "      <td>0</td>\n",
       "      <td>N101,N101,N101,N101,N101</td>\n",
       "      <td>2021-10-13 04:00:00</td>\n",
       "      <td>DARK</td>\n",
       "      <td>16.0</td>\n",
       "      <td>1018.0</td>\n",
       "      <td>41.0</td>\n",
       "      <td>2.0</td>\n",
       "      <td>Sem Chuva</td>\n",
       "      <td>2021</td>\n",
       "      <td>10</td>\n",
       "      <td>13</td>\n",
       "      <td>4</td>\n",
       "      <td>0</td>\n",
       "    </tr>\n",
       "    <tr>\n",
       "      <th>2</th>\n",
       "      <td>UNDEFINED</td>\n",
       "      <td>0</td>\n",
       "      <td>N101,N101,N101,N101,N101</td>\n",
       "      <td>2021-07-18 19:00:00</td>\n",
       "      <td>LIGHT</td>\n",
       "      <td>22.0</td>\n",
       "      <td>1017.0</td>\n",
       "      <td>71.0</td>\n",
       "      <td>0.0</td>\n",
       "      <td>Sem Chuva</td>\n",
       "      <td>2021</td>\n",
       "      <td>7</td>\n",
       "      <td>18</td>\n",
       "      <td>19</td>\n",
       "      <td>0</td>\n",
       "    </tr>\n",
       "    <tr>\n",
       "      <th>3</th>\n",
       "      <td>UNDEFINED</td>\n",
       "      <td>140</td>\n",
       "      <td>N101,R206,N101,N101,N101,N101</td>\n",
       "      <td>2021-10-30 15:00:00</td>\n",
       "      <td>LIGHT</td>\n",
       "      <td>18.0</td>\n",
       "      <td>1008.0</td>\n",
       "      <td>81.0</td>\n",
       "      <td>3.0</td>\n",
       "      <td>Sem Chuva</td>\n",
       "      <td>2021</td>\n",
       "      <td>10</td>\n",
       "      <td>30</td>\n",
       "      <td>15</td>\n",
       "      <td>0</td>\n",
       "    </tr>\n",
       "    <tr>\n",
       "      <th>4</th>\n",
       "      <td>UNDEFINED</td>\n",
       "      <td>0</td>\n",
       "      <td>N101,N101,N101,N101,N101</td>\n",
       "      <td>2021-10-18 10:00:00</td>\n",
       "      <td>LIGHT</td>\n",
       "      <td>20.0</td>\n",
       "      <td>1022.0</td>\n",
       "      <td>86.0</td>\n",
       "      <td>0.0</td>\n",
       "      <td>Sem Chuva</td>\n",
       "      <td>2021</td>\n",
       "      <td>10</td>\n",
       "      <td>18</td>\n",
       "      <td>10</td>\n",
       "      <td>0</td>\n",
       "    </tr>\n",
       "  </tbody>\n",
       "</table>\n",
       "</div>"
      ],
      "text/plain": [
       "  magnitude_of_delay  delay_in_seconds                  affected_roads  \\\n",
       "0          UNDEFINED              1211  N101,N101,N101,N101,N101,N101,   \n",
       "1          UNDEFINED                 0        N101,N101,N101,N101,N101   \n",
       "2          UNDEFINED                 0        N101,N101,N101,N101,N101   \n",
       "3          UNDEFINED               140   N101,R206,N101,N101,N101,N101   \n",
       "4          UNDEFINED                 0        N101,N101,N101,N101,N101   \n",
       "\n",
       "          record_date luminosity  avg_temperature  avg_atm_pressure  \\\n",
       "0 2021-04-13 19:00:00      LIGHT             15.0            1018.0   \n",
       "1 2021-10-13 04:00:00       DARK             16.0            1018.0   \n",
       "2 2021-07-18 19:00:00      LIGHT             22.0            1017.0   \n",
       "3 2021-10-30 15:00:00      LIGHT             18.0            1008.0   \n",
       "4 2021-10-18 10:00:00      LIGHT             20.0            1022.0   \n",
       "\n",
       "   avg_humidity  avg_wind_speed   avg_rain  record_date_year  \\\n",
       "0          80.0             0.0  Sem Chuva              2021   \n",
       "1          41.0             2.0  Sem Chuva              2021   \n",
       "2          71.0             0.0  Sem Chuva              2021   \n",
       "3          81.0             3.0  Sem Chuva              2021   \n",
       "4          86.0             0.0  Sem Chuva              2021   \n",
       "\n",
       "   record_date_month  record_date_day  record_date_hour  record_date_minute  \n",
       "0                  4               13                19                   0  \n",
       "1                 10               13                 4                   0  \n",
       "2                  7               18                19                   0  \n",
       "3                 10               30                15                   0  \n",
       "4                 10               18                10                   0  "
      ]
     },
     "execution_count": 16,
     "metadata": {},
     "output_type": "execute_result"
    }
   ],
   "source": [
    "data4['record_date_year'] = data4['record_date'].dt.year\n",
    "data4['record_date_month'] = data4['record_date'].dt.month\n",
    "data4['record_date_day'] = data4['record_date'].dt.day\n",
    "data4['record_date_hour'] = data4['record_date'].dt.hour\n",
    "data4['record_date_minute'] = data4['record_date'].dt.minute\n",
    "\n",
    "test_data2['record_date_year'] = test_data2['record_date'].dt.year\n",
    "test_data2['record_date_month'] = test_data2['record_date'].dt.month\n",
    "test_data2['record_date_day'] = test_data2['record_date'].dt.day\n",
    "test_data2['record_date_hour'] = test_data2['record_date'].dt.hour\n",
    "test_data2['record_date_minute'] = test_data2['record_date'].dt.minute\n",
    "\n",
    "\n",
    "data4.head()\n",
    "test_data2.head()"
   ]
  },
  {
   "cell_type": "code",
   "execution_count": 17,
   "metadata": {},
   "outputs": [
    {
     "data": {
      "text/plain": [
       "magnitude_of_delay       3\n",
       "delay_in_seconds      1176\n",
       "affected_roads         678\n",
       "record_date           4915\n",
       "luminosity               3\n",
       "avg_temperature         35\n",
       "avg_atm_pressure        36\n",
       "avg_humidity            83\n",
       "avg_wind_speed          11\n",
       "avg_rain                 4\n",
       "incidents                5\n",
       "record_date_year         1\n",
       "record_date_month       11\n",
       "record_date_day         31\n",
       "record_date_hour        24\n",
       "record_date_minute       1\n",
       "dtype: int64"
      ]
     },
     "execution_count": 17,
     "metadata": {},
     "output_type": "execute_result"
    }
   ],
   "source": [
    "data4.nunique()"
   ]
  },
  {
   "cell_type": "markdown",
   "metadata": {},
   "source": [
    "Aqui podemos verificar que o ano dos incidentes, bem como o minuto, são features com um único valor, sendo então essa informação inútil."
   ]
  },
  {
   "cell_type": "code",
   "execution_count": 18,
   "metadata": {},
   "outputs": [
    {
     "name": "stdout",
     "output_type": "stream",
     "text": [
      "['UNDEFINED' 'MAJOR' 'MODERATE']\n",
      "['DARK' 'LIGHT' 'LOW_LIGHT']\n",
      "['Sem Chuva' 'chuva moderada' 'chuva fraca' 'chuva forte']\n"
     ]
    }
   ],
   "source": [
    "data5 = data4.drop(['record_date_minute','record_date_year', 'record_date', 'affected_roads'], axis = 1)\n",
    "test_data3 = test_data2.drop(['record_date_minute','record_date_year', 'record_date', 'affected_roads'], axis = 1)\n",
    "print(data5['magnitude_of_delay'].unique())\n",
    "print(data5['luminosity'].unique())\n",
    "print(data5['avg_rain'].unique())\n",
    "#data5.info()"
   ]
  },
  {
   "cell_type": "markdown",
   "metadata": {},
   "source": [
    "A 'magnitude_of_delay' tem 3 valores possíveis: UNDEFINED, MAJOR e MODERATE <br>\n",
    "A luminosidade tem 3 valores possíveis: LIGHT, LOW_LIGHT, DARK <br>\n",
    "A 'avg_rain' tem 4 valores possíveis: Sem Chuva, chuva moderada, chuva fraca, chuva forte <br>\n",
    "Assim, teremos de transformar estes valores em valores numéricos, fazendo label enconding\n"
   ]
  },
  {
   "cell_type": "code",
   "execution_count": 19,
   "metadata": {},
   "outputs": [
    {
     "data": {
      "text/html": [
       "<div>\n",
       "<style scoped>\n",
       "    .dataframe tbody tr th:only-of-type {\n",
       "        vertical-align: middle;\n",
       "    }\n",
       "\n",
       "    .dataframe tbody tr th {\n",
       "        vertical-align: top;\n",
       "    }\n",
       "\n",
       "    .dataframe thead th {\n",
       "        text-align: right;\n",
       "    }\n",
       "</style>\n",
       "<table border=\"1\" class=\"dataframe\">\n",
       "  <thead>\n",
       "    <tr style=\"text-align: right;\">\n",
       "      <th></th>\n",
       "      <th>magnitude_of_delay</th>\n",
       "      <th>delay_in_seconds</th>\n",
       "      <th>luminosity</th>\n",
       "      <th>avg_temperature</th>\n",
       "      <th>avg_atm_pressure</th>\n",
       "      <th>avg_humidity</th>\n",
       "      <th>avg_wind_speed</th>\n",
       "      <th>avg_rain</th>\n",
       "      <th>record_date_month</th>\n",
       "      <th>record_date_day</th>\n",
       "      <th>record_date_hour</th>\n",
       "    </tr>\n",
       "  </thead>\n",
       "  <tbody>\n",
       "    <tr>\n",
       "      <th>0</th>\n",
       "      <td>0</td>\n",
       "      <td>1211</td>\n",
       "      <td>1</td>\n",
       "      <td>15.0</td>\n",
       "      <td>1018.0</td>\n",
       "      <td>80.0</td>\n",
       "      <td>0.0</td>\n",
       "      <td>0</td>\n",
       "      <td>4</td>\n",
       "      <td>13</td>\n",
       "      <td>19</td>\n",
       "    </tr>\n",
       "    <tr>\n",
       "      <th>1</th>\n",
       "      <td>0</td>\n",
       "      <td>0</td>\n",
       "      <td>0</td>\n",
       "      <td>16.0</td>\n",
       "      <td>1018.0</td>\n",
       "      <td>41.0</td>\n",
       "      <td>2.0</td>\n",
       "      <td>0</td>\n",
       "      <td>10</td>\n",
       "      <td>13</td>\n",
       "      <td>4</td>\n",
       "    </tr>\n",
       "    <tr>\n",
       "      <th>2</th>\n",
       "      <td>0</td>\n",
       "      <td>0</td>\n",
       "      <td>1</td>\n",
       "      <td>22.0</td>\n",
       "      <td>1017.0</td>\n",
       "      <td>71.0</td>\n",
       "      <td>0.0</td>\n",
       "      <td>0</td>\n",
       "      <td>7</td>\n",
       "      <td>18</td>\n",
       "      <td>19</td>\n",
       "    </tr>\n",
       "    <tr>\n",
       "      <th>3</th>\n",
       "      <td>0</td>\n",
       "      <td>140</td>\n",
       "      <td>1</td>\n",
       "      <td>18.0</td>\n",
       "      <td>1008.0</td>\n",
       "      <td>81.0</td>\n",
       "      <td>3.0</td>\n",
       "      <td>0</td>\n",
       "      <td>10</td>\n",
       "      <td>30</td>\n",
       "      <td>15</td>\n",
       "    </tr>\n",
       "    <tr>\n",
       "      <th>4</th>\n",
       "      <td>0</td>\n",
       "      <td>0</td>\n",
       "      <td>1</td>\n",
       "      <td>20.0</td>\n",
       "      <td>1022.0</td>\n",
       "      <td>86.0</td>\n",
       "      <td>0.0</td>\n",
       "      <td>0</td>\n",
       "      <td>10</td>\n",
       "      <td>18</td>\n",
       "      <td>10</td>\n",
       "    </tr>\n",
       "  </tbody>\n",
       "</table>\n",
       "</div>"
      ],
      "text/plain": [
       "   magnitude_of_delay  delay_in_seconds  luminosity  avg_temperature  \\\n",
       "0                   0              1211           1             15.0   \n",
       "1                   0                 0           0             16.0   \n",
       "2                   0                 0           1             22.0   \n",
       "3                   0               140           1             18.0   \n",
       "4                   0                 0           1             20.0   \n",
       "\n",
       "   avg_atm_pressure  avg_humidity  avg_wind_speed  avg_rain  \\\n",
       "0            1018.0          80.0             0.0         0   \n",
       "1            1018.0          41.0             2.0         0   \n",
       "2            1017.0          71.0             0.0         0   \n",
       "3            1008.0          81.0             3.0         0   \n",
       "4            1022.0          86.0             0.0         0   \n",
       "\n",
       "   record_date_month  record_date_day  record_date_hour  \n",
       "0                  4               13                19  \n",
       "1                 10               13                 4  \n",
       "2                  7               18                19  \n",
       "3                 10               30                15  \n",
       "4                 10               18                10  "
      ]
     },
     "execution_count": 19,
     "metadata": {},
     "output_type": "execute_result"
    }
   ],
   "source": [
    "replace_map = { 'magnitude_of_delay' : {'UNDEFINED': 0, 'MODERATE': 1, 'MAJOR': 2}, \n",
    "                'luminosity': {'DARK': 0, 'LIGHT': 1, 'LOW_LIGHT': 2},\n",
    "                'avg_rain': {'Sem Chuva': 0, 'chuva moderada': 1, 'chuva fraca': 2, 'chuva forte': 3}\n",
    "              }\n",
    "data6 = data5.replace(replace_map)\n",
    "test_data4 = test_data3.replace(replace_map)\n",
    "\n",
    "data6.head()\n",
    "test_data4.head()"
   ]
  },
  {
   "cell_type": "markdown",
   "metadata": {},
   "source": [
    "Depois de feita toda a etapa de feature engineering, vamos agora construir um modelo de regressão logística."
   ]
  },
  {
   "cell_type": "code",
   "execution_count": 20,
   "metadata": {},
   "outputs": [],
   "source": [
    "df = data6\n",
    "df_test = test_data4\n",
    "\n",
    "X = df.drop('incidents', axis=1)\n",
    "y = df['incidents']\n",
    "X_test = df_test"
   ]
  },
  {
   "cell_type": "code",
   "execution_count": 21,
   "metadata": {},
   "outputs": [],
   "source": [
    "from sklearn.tree import DecisionTreeClassifier\n",
    "clf = DecisionTreeClassifier(random_state=2022)"
   ]
  },
  {
   "cell_type": "code",
   "execution_count": 22,
   "metadata": {},
   "outputs": [
    {
     "data": {
      "text/plain": [
       "DecisionTreeClassifier(random_state=2022)"
      ]
     },
     "execution_count": 22,
     "metadata": {},
     "output_type": "execute_result"
    }
   ],
   "source": [
    "clf.fit(X, y)"
   ]
  },
  {
   "cell_type": "code",
   "execution_count": 23,
   "metadata": {},
   "outputs": [
    {
     "data": {
      "text/plain": [
       "array([4, 0, 0, ..., 2, 1, 3])"
      ]
     },
     "execution_count": 23,
     "metadata": {},
     "output_type": "execute_result"
    }
   ],
   "source": [
    "predictions_dt = clf.predict(X_test)\n",
    "predictions_dt"
   ]
  },
  {
   "cell_type": "code",
   "execution_count": 37,
   "metadata": {},
   "outputs": [
    {
     "name": "stdout",
     "output_type": "stream",
     "text": [
      "[{'RowId': 1, 'Incidents': 'Very_High'}, {'RowId': 2, 'Incidents': 'None'}, {'RowId': 3, 'Incidents': 'None'}, {'RowId': 4, 'Incidents': 'Low'}, {'RowId': 5, 'Incidents': 'None'}, {'RowId': 6, 'Incidents': 'Very_High'}, {'RowId': 7, 'Incidents': 'Very_High'}, {'RowId': 8, 'Incidents': 'None'}, {'RowId': 9, 'Incidents': 'High'}, {'RowId': 10, 'Incidents': 'Medium'}, {'RowId': 11, 'Incidents': 'None'}, {'RowId': 12, 'Incidents': 'Very_High'}, {'RowId': 13, 'Incidents': 'Medium'}, {'RowId': 14, 'Incidents': 'High'}, {'RowId': 15, 'Incidents': 'None'}, {'RowId': 16, 'Incidents': 'High'}, {'RowId': 17, 'Incidents': 'Very_High'}, {'RowId': 18, 'Incidents': 'None'}, {'RowId': 19, 'Incidents': 'Low'}, {'RowId': 20, 'Incidents': 'Medium'}, {'RowId': 21, 'Incidents': 'None'}, {'RowId': 22, 'Incidents': 'Low'}, {'RowId': 23, 'Incidents': 'None'}, {'RowId': 24, 'Incidents': 'Low'}, {'RowId': 25, 'Incidents': 'High'}, {'RowId': 26, 'Incidents': 'High'}, {'RowId': 27, 'Incidents': 'None'}, {'RowId': 28, 'Incidents': 'Medium'}, {'RowId': 29, 'Incidents': 'None'}, {'RowId': 30, 'Incidents': 'Medium'}, {'RowId': 31, 'Incidents': 'None'}, {'RowId': 32, 'Incidents': 'None'}, {'RowId': 33, 'Incidents': 'Medium'}, {'RowId': 34, 'Incidents': 'None'}, {'RowId': 35, 'Incidents': 'High'}, {'RowId': 36, 'Incidents': 'None'}, {'RowId': 37, 'Incidents': 'Low'}, {'RowId': 38, 'Incidents': 'None'}, {'RowId': 39, 'Incidents': 'Very_High'}, {'RowId': 40, 'Incidents': 'None'}, {'RowId': 41, 'Incidents': 'Low'}, {'RowId': 42, 'Incidents': 'None'}, {'RowId': 43, 'Incidents': 'Medium'}, {'RowId': 44, 'Incidents': 'None'}, {'RowId': 45, 'Incidents': 'High'}, {'RowId': 46, 'Incidents': 'Very_High'}, {'RowId': 47, 'Incidents': 'None'}, {'RowId': 48, 'Incidents': 'Low'}, {'RowId': 49, 'Incidents': 'None'}, {'RowId': 50, 'Incidents': 'None'}, {'RowId': 51, 'Incidents': 'High'}, {'RowId': 52, 'Incidents': 'None'}, {'RowId': 53, 'Incidents': 'Low'}, {'RowId': 54, 'Incidents': 'None'}, {'RowId': 55, 'Incidents': 'None'}, {'RowId': 56, 'Incidents': 'High'}, {'RowId': 57, 'Incidents': 'None'}, {'RowId': 58, 'Incidents': 'Low'}, {'RowId': 59, 'Incidents': 'None'}, {'RowId': 60, 'Incidents': 'None'}, {'RowId': 61, 'Incidents': 'None'}, {'RowId': 62, 'Incidents': 'High'}, {'RowId': 63, 'Incidents': 'None'}, {'RowId': 64, 'Incidents': 'High'}, {'RowId': 65, 'Incidents': 'Low'}, {'RowId': 66, 'Incidents': 'Low'}, {'RowId': 67, 'Incidents': 'High'}, {'RowId': 68, 'Incidents': 'None'}, {'RowId': 69, 'Incidents': 'Low'}, {'RowId': 70, 'Incidents': 'None'}, {'RowId': 71, 'Incidents': 'None'}, {'RowId': 72, 'Incidents': 'None'}, {'RowId': 73, 'Incidents': 'Very_High'}, {'RowId': 74, 'Incidents': 'Very_High'}, {'RowId': 75, 'Incidents': 'Medium'}, {'RowId': 76, 'Incidents': 'Medium'}, {'RowId': 77, 'Incidents': 'None'}, {'RowId': 78, 'Incidents': 'Very_High'}, {'RowId': 79, 'Incidents': 'Very_High'}, {'RowId': 80, 'Incidents': 'None'}, {'RowId': 81, 'Incidents': 'None'}, {'RowId': 82, 'Incidents': 'High'}, {'RowId': 83, 'Incidents': 'Medium'}, {'RowId': 84, 'Incidents': 'High'}, {'RowId': 85, 'Incidents': 'Low'}, {'RowId': 86, 'Incidents': 'Medium'}, {'RowId': 87, 'Incidents': 'Very_High'}, {'RowId': 88, 'Incidents': 'High'}, {'RowId': 89, 'Incidents': 'None'}, {'RowId': 90, 'Incidents': 'Low'}, {'RowId': 91, 'Incidents': 'High'}, {'RowId': 92, 'Incidents': 'High'}, {'RowId': 93, 'Incidents': 'High'}, {'RowId': 94, 'Incidents': 'None'}, {'RowId': 95, 'Incidents': 'Very_High'}, {'RowId': 96, 'Incidents': 'High'}, {'RowId': 97, 'Incidents': 'High'}, {'RowId': 98, 'Incidents': 'None'}, {'RowId': 99, 'Incidents': 'Very_High'}, {'RowId': 100, 'Incidents': 'High'}, {'RowId': 101, 'Incidents': 'Very_High'}, {'RowId': 102, 'Incidents': 'High'}, {'RowId': 103, 'Incidents': 'None'}, {'RowId': 104, 'Incidents': 'None'}, {'RowId': 105, 'Incidents': 'None'}, {'RowId': 106, 'Incidents': 'None'}, {'RowId': 107, 'Incidents': 'Low'}, {'RowId': 108, 'Incidents': 'Low'}, {'RowId': 109, 'Incidents': 'Low'}, {'RowId': 110, 'Incidents': 'Very_High'}, {'RowId': 111, 'Incidents': 'High'}, {'RowId': 112, 'Incidents': 'Low'}, {'RowId': 113, 'Incidents': 'None'}, {'RowId': 114, 'Incidents': 'High'}, {'RowId': 115, 'Incidents': 'Very_High'}, {'RowId': 116, 'Incidents': 'None'}, {'RowId': 117, 'Incidents': 'High'}, {'RowId': 118, 'Incidents': 'High'}, {'RowId': 119, 'Incidents': 'None'}, {'RowId': 120, 'Incidents': 'Low'}, {'RowId': 121, 'Incidents': 'Low'}, {'RowId': 122, 'Incidents': 'None'}, {'RowId': 123, 'Incidents': 'None'}, {'RowId': 124, 'Incidents': 'None'}, {'RowId': 125, 'Incidents': 'High'}, {'RowId': 126, 'Incidents': 'Very_High'}, {'RowId': 127, 'Incidents': 'High'}, {'RowId': 128, 'Incidents': 'High'}, {'RowId': 129, 'Incidents': 'None'}, {'RowId': 130, 'Incidents': 'High'}, {'RowId': 131, 'Incidents': 'Very_High'}, {'RowId': 132, 'Incidents': 'Very_High'}, {'RowId': 133, 'Incidents': 'Very_High'}, {'RowId': 134, 'Incidents': 'High'}, {'RowId': 135, 'Incidents': 'None'}, {'RowId': 136, 'Incidents': 'None'}, {'RowId': 137, 'Incidents': 'Medium'}, {'RowId': 138, 'Incidents': 'Low'}, {'RowId': 139, 'Incidents': 'High'}, {'RowId': 140, 'Incidents': 'None'}, {'RowId': 141, 'Incidents': 'Medium'}, {'RowId': 142, 'Incidents': 'High'}, {'RowId': 143, 'Incidents': 'None'}, {'RowId': 144, 'Incidents': 'None'}, {'RowId': 145, 'Incidents': 'None'}, {'RowId': 146, 'Incidents': 'High'}, {'RowId': 147, 'Incidents': 'Low'}, {'RowId': 148, 'Incidents': 'Low'}, {'RowId': 149, 'Incidents': 'High'}, {'RowId': 150, 'Incidents': 'None'}, {'RowId': 151, 'Incidents': 'None'}, {'RowId': 152, 'Incidents': 'None'}, {'RowId': 153, 'Incidents': 'High'}, {'RowId': 154, 'Incidents': 'Very_High'}, {'RowId': 155, 'Incidents': 'High'}, {'RowId': 156, 'Incidents': 'Low'}, {'RowId': 157, 'Incidents': 'None'}, {'RowId': 158, 'Incidents': 'High'}, {'RowId': 159, 'Incidents': 'None'}, {'RowId': 160, 'Incidents': 'None'}, {'RowId': 161, 'Incidents': 'None'}, {'RowId': 162, 'Incidents': 'Low'}, {'RowId': 163, 'Incidents': 'Medium'}, {'RowId': 164, 'Incidents': 'None'}, {'RowId': 165, 'Incidents': 'Very_High'}, {'RowId': 166, 'Incidents': 'None'}, {'RowId': 167, 'Incidents': 'None'}, {'RowId': 168, 'Incidents': 'None'}, {'RowId': 169, 'Incidents': 'None'}, {'RowId': 170, 'Incidents': 'None'}, {'RowId': 171, 'Incidents': 'Medium'}, {'RowId': 172, 'Incidents': 'High'}, {'RowId': 173, 'Incidents': 'None'}, {'RowId': 174, 'Incidents': 'Very_High'}, {'RowId': 175, 'Incidents': 'None'}, {'RowId': 176, 'Incidents': 'Low'}, {'RowId': 177, 'Incidents': 'Very_High'}, {'RowId': 178, 'Incidents': 'None'}, {'RowId': 179, 'Incidents': 'High'}, {'RowId': 180, 'Incidents': 'Low'}, {'RowId': 181, 'Incidents': 'High'}, {'RowId': 182, 'Incidents': 'High'}, {'RowId': 183, 'Incidents': 'None'}, {'RowId': 184, 'Incidents': 'High'}, {'RowId': 185, 'Incidents': 'Low'}, {'RowId': 186, 'Incidents': 'None'}, {'RowId': 187, 'Incidents': 'Very_High'}, {'RowId': 188, 'Incidents': 'High'}, {'RowId': 189, 'Incidents': 'Very_High'}, {'RowId': 190, 'Incidents': 'High'}, {'RowId': 191, 'Incidents': 'High'}, {'RowId': 192, 'Incidents': 'None'}, {'RowId': 193, 'Incidents': 'Medium'}, {'RowId': 194, 'Incidents': 'Low'}, {'RowId': 195, 'Incidents': 'High'}, {'RowId': 196, 'Incidents': 'High'}, {'RowId': 197, 'Incidents': 'High'}, {'RowId': 198, 'Incidents': 'Very_High'}, {'RowId': 199, 'Incidents': 'High'}, {'RowId': 200, 'Incidents': 'High'}, {'RowId': 201, 'Incidents': 'Very_High'}, {'RowId': 202, 'Incidents': 'Medium'}, {'RowId': 203, 'Incidents': 'Very_High'}, {'RowId': 204, 'Incidents': 'Low'}, {'RowId': 205, 'Incidents': 'Low'}, {'RowId': 206, 'Incidents': 'None'}, {'RowId': 207, 'Incidents': 'High'}, {'RowId': 208, 'Incidents': 'Low'}, {'RowId': 209, 'Incidents': 'None'}, {'RowId': 210, 'Incidents': 'None'}, {'RowId': 211, 'Incidents': 'None'}, {'RowId': 212, 'Incidents': 'High'}, {'RowId': 213, 'Incidents': 'None'}, {'RowId': 214, 'Incidents': 'High'}, {'RowId': 215, 'Incidents': 'Very_High'}, {'RowId': 216, 'Incidents': 'Medium'}, {'RowId': 217, 'Incidents': 'None'}, {'RowId': 218, 'Incidents': 'High'}, {'RowId': 219, 'Incidents': 'Low'}, {'RowId': 220, 'Incidents': 'None'}, {'RowId': 221, 'Incidents': 'High'}, {'RowId': 222, 'Incidents': 'Very_High'}, {'RowId': 223, 'Incidents': 'None'}, {'RowId': 224, 'Incidents': 'None'}, {'RowId': 225, 'Incidents': 'Low'}, {'RowId': 226, 'Incidents': 'High'}, {'RowId': 227, 'Incidents': 'None'}, {'RowId': 228, 'Incidents': 'Low'}, {'RowId': 229, 'Incidents': 'None'}, {'RowId': 230, 'Incidents': 'High'}, {'RowId': 231, 'Incidents': 'Medium'}, {'RowId': 232, 'Incidents': 'High'}, {'RowId': 233, 'Incidents': 'Low'}, {'RowId': 234, 'Incidents': 'High'}, {'RowId': 235, 'Incidents': 'Low'}, {'RowId': 236, 'Incidents': 'None'}, {'RowId': 237, 'Incidents': 'High'}, {'RowId': 238, 'Incidents': 'None'}, {'RowId': 239, 'Incidents': 'None'}, {'RowId': 240, 'Incidents': 'None'}, {'RowId': 241, 'Incidents': 'High'}, {'RowId': 242, 'Incidents': 'High'}, {'RowId': 243, 'Incidents': 'Very_High'}, {'RowId': 244, 'Incidents': 'None'}, {'RowId': 245, 'Incidents': 'High'}, {'RowId': 246, 'Incidents': 'High'}, {'RowId': 247, 'Incidents': 'None'}, {'RowId': 248, 'Incidents': 'Medium'}, {'RowId': 249, 'Incidents': 'None'}, {'RowId': 250, 'Incidents': 'Low'}, {'RowId': 251, 'Incidents': 'Very_High'}, {'RowId': 252, 'Incidents': 'None'}, {'RowId': 253, 'Incidents': 'Very_High'}, {'RowId': 254, 'Incidents': 'None'}, {'RowId': 255, 'Incidents': 'None'}, {'RowId': 256, 'Incidents': 'Medium'}, {'RowId': 257, 'Incidents': 'Medium'}, {'RowId': 258, 'Incidents': 'High'}, {'RowId': 259, 'Incidents': 'None'}, {'RowId': 260, 'Incidents': 'None'}, {'RowId': 261, 'Incidents': 'None'}, {'RowId': 262, 'Incidents': 'None'}, {'RowId': 263, 'Incidents': 'Low'}, {'RowId': 264, 'Incidents': 'High'}, {'RowId': 265, 'Incidents': 'Low'}, {'RowId': 266, 'Incidents': 'None'}, {'RowId': 267, 'Incidents': 'High'}, {'RowId': 268, 'Incidents': 'Low'}, {'RowId': 269, 'Incidents': 'Low'}, {'RowId': 270, 'Incidents': 'Medium'}, {'RowId': 271, 'Incidents': 'High'}, {'RowId': 272, 'Incidents': 'Medium'}, {'RowId': 273, 'Incidents': 'None'}, {'RowId': 274, 'Incidents': 'Very_High'}, {'RowId': 275, 'Incidents': 'High'}, {'RowId': 276, 'Incidents': 'None'}, {'RowId': 277, 'Incidents': 'Medium'}, {'RowId': 278, 'Incidents': 'Low'}, {'RowId': 279, 'Incidents': 'None'}, {'RowId': 280, 'Incidents': 'None'}, {'RowId': 281, 'Incidents': 'Medium'}, {'RowId': 282, 'Incidents': 'None'}, {'RowId': 283, 'Incidents': 'None'}, {'RowId': 284, 'Incidents': 'None'}, {'RowId': 285, 'Incidents': 'High'}, {'RowId': 286, 'Incidents': 'None'}, {'RowId': 287, 'Incidents': 'None'}, {'RowId': 288, 'Incidents': 'High'}, {'RowId': 289, 'Incidents': 'None'}, {'RowId': 290, 'Incidents': 'High'}, {'RowId': 291, 'Incidents': 'High'}, {'RowId': 292, 'Incidents': 'None'}, {'RowId': 293, 'Incidents': 'High'}, {'RowId': 294, 'Incidents': 'None'}, {'RowId': 295, 'Incidents': 'Low'}, {'RowId': 296, 'Incidents': 'Low'}, {'RowId': 297, 'Incidents': 'High'}, {'RowId': 298, 'Incidents': 'Very_High'}, {'RowId': 299, 'Incidents': 'None'}, {'RowId': 300, 'Incidents': 'Low'}, {'RowId': 301, 'Incidents': 'None'}, {'RowId': 302, 'Incidents': 'None'}, {'RowId': 303, 'Incidents': 'None'}, {'RowId': 304, 'Incidents': 'None'}, {'RowId': 305, 'Incidents': 'None'}, {'RowId': 306, 'Incidents': 'None'}, {'RowId': 307, 'Incidents': 'None'}, {'RowId': 308, 'Incidents': 'None'}, {'RowId': 309, 'Incidents': 'None'}, {'RowId': 310, 'Incidents': 'Very_High'}, {'RowId': 311, 'Incidents': 'None'}, {'RowId': 312, 'Incidents': 'None'}, {'RowId': 313, 'Incidents': 'None'}, {'RowId': 314, 'Incidents': 'Low'}, {'RowId': 315, 'Incidents': 'None'}, {'RowId': 316, 'Incidents': 'Low'}, {'RowId': 317, 'Incidents': 'None'}, {'RowId': 318, 'Incidents': 'Very_High'}, {'RowId': 319, 'Incidents': 'High'}, {'RowId': 320, 'Incidents': 'High'}, {'RowId': 321, 'Incidents': 'Medium'}, {'RowId': 322, 'Incidents': 'High'}, {'RowId': 323, 'Incidents': 'Low'}, {'RowId': 324, 'Incidents': 'High'}, {'RowId': 325, 'Incidents': 'Very_High'}, {'RowId': 326, 'Incidents': 'High'}, {'RowId': 327, 'Incidents': 'None'}, {'RowId': 328, 'Incidents': 'Medium'}, {'RowId': 329, 'Incidents': 'High'}, {'RowId': 330, 'Incidents': 'None'}, {'RowId': 331, 'Incidents': 'High'}, {'RowId': 332, 'Incidents': 'None'}, {'RowId': 333, 'Incidents': 'High'}, {'RowId': 334, 'Incidents': 'None'}, {'RowId': 335, 'Incidents': 'Medium'}, {'RowId': 336, 'Incidents': 'None'}, {'RowId': 337, 'Incidents': 'None'}, {'RowId': 338, 'Incidents': 'High'}, {'RowId': 339, 'Incidents': 'Very_High'}, {'RowId': 340, 'Incidents': 'Medium'}, {'RowId': 341, 'Incidents': 'None'}, {'RowId': 342, 'Incidents': 'None'}, {'RowId': 343, 'Incidents': 'None'}, {'RowId': 344, 'Incidents': 'Low'}, {'RowId': 345, 'Incidents': 'High'}, {'RowId': 346, 'Incidents': 'None'}, {'RowId': 347, 'Incidents': 'High'}, {'RowId': 348, 'Incidents': 'None'}, {'RowId': 349, 'Incidents': 'High'}, {'RowId': 350, 'Incidents': 'High'}, {'RowId': 351, 'Incidents': 'None'}, {'RowId': 352, 'Incidents': 'Very_High'}, {'RowId': 353, 'Incidents': 'None'}, {'RowId': 354, 'Incidents': 'Low'}, {'RowId': 355, 'Incidents': 'Very_High'}, {'RowId': 356, 'Incidents': 'None'}, {'RowId': 357, 'Incidents': 'High'}, {'RowId': 358, 'Incidents': 'Low'}, {'RowId': 359, 'Incidents': 'Medium'}, {'RowId': 360, 'Incidents': 'High'}, {'RowId': 361, 'Incidents': 'None'}, {'RowId': 362, 'Incidents': 'None'}, {'RowId': 363, 'Incidents': 'High'}, {'RowId': 364, 'Incidents': 'None'}, {'RowId': 365, 'Incidents': 'High'}, {'RowId': 366, 'Incidents': 'High'}, {'RowId': 367, 'Incidents': 'Low'}, {'RowId': 368, 'Incidents': 'Very_High'}, {'RowId': 369, 'Incidents': 'Very_High'}, {'RowId': 370, 'Incidents': 'None'}, {'RowId': 371, 'Incidents': 'Medium'}, {'RowId': 372, 'Incidents': 'High'}, {'RowId': 373, 'Incidents': 'Low'}, {'RowId': 374, 'Incidents': 'None'}, {'RowId': 375, 'Incidents': 'Medium'}, {'RowId': 376, 'Incidents': 'None'}, {'RowId': 377, 'Incidents': 'None'}, {'RowId': 378, 'Incidents': 'None'}, {'RowId': 379, 'Incidents': 'Low'}, {'RowId': 380, 'Incidents': 'None'}, {'RowId': 381, 'Incidents': 'Low'}, {'RowId': 382, 'Incidents': 'None'}, {'RowId': 383, 'Incidents': 'Very_High'}, {'RowId': 384, 'Incidents': 'None'}, {'RowId': 385, 'Incidents': 'None'}, {'RowId': 386, 'Incidents': 'None'}, {'RowId': 387, 'Incidents': 'None'}, {'RowId': 388, 'Incidents': 'High'}, {'RowId': 389, 'Incidents': 'None'}, {'RowId': 390, 'Incidents': 'High'}, {'RowId': 391, 'Incidents': 'High'}, {'RowId': 392, 'Incidents': 'High'}, {'RowId': 393, 'Incidents': 'None'}, {'RowId': 394, 'Incidents': 'None'}, {'RowId': 395, 'Incidents': 'None'}, {'RowId': 396, 'Incidents': 'High'}, {'RowId': 397, 'Incidents': 'Very_High'}, {'RowId': 398, 'Incidents': 'None'}, {'RowId': 399, 'Incidents': 'Low'}, {'RowId': 400, 'Incidents': 'High'}, {'RowId': 401, 'Incidents': 'Low'}, {'RowId': 402, 'Incidents': 'Medium'}, {'RowId': 403, 'Incidents': 'High'}, {'RowId': 404, 'Incidents': 'Very_High'}, {'RowId': 405, 'Incidents': 'High'}, {'RowId': 406, 'Incidents': 'High'}, {'RowId': 407, 'Incidents': 'None'}, {'RowId': 408, 'Incidents': 'Very_High'}, {'RowId': 409, 'Incidents': 'None'}, {'RowId': 410, 'Incidents': 'None'}, {'RowId': 411, 'Incidents': 'None'}, {'RowId': 412, 'Incidents': 'High'}, {'RowId': 413, 'Incidents': 'None'}, {'RowId': 414, 'Incidents': 'None'}, {'RowId': 415, 'Incidents': 'Very_High'}, {'RowId': 416, 'Incidents': 'High'}, {'RowId': 417, 'Incidents': 'Low'}, {'RowId': 418, 'Incidents': 'High'}, {'RowId': 419, 'Incidents': 'Low'}, {'RowId': 420, 'Incidents': 'None'}, {'RowId': 421, 'Incidents': 'High'}, {'RowId': 422, 'Incidents': 'Very_High'}, {'RowId': 423, 'Incidents': 'None'}, {'RowId': 424, 'Incidents': 'None'}, {'RowId': 425, 'Incidents': 'None'}, {'RowId': 426, 'Incidents': 'Medium'}, {'RowId': 427, 'Incidents': 'None'}, {'RowId': 428, 'Incidents': 'Medium'}, {'RowId': 429, 'Incidents': 'None'}, {'RowId': 430, 'Incidents': 'None'}, {'RowId': 431, 'Incidents': 'High'}, {'RowId': 432, 'Incidents': 'Very_High'}, {'RowId': 433, 'Incidents': 'Very_High'}, {'RowId': 434, 'Incidents': 'None'}, {'RowId': 435, 'Incidents': 'Medium'}, {'RowId': 436, 'Incidents': 'High'}, {'RowId': 437, 'Incidents': 'High'}, {'RowId': 438, 'Incidents': 'Low'}, {'RowId': 439, 'Incidents': 'None'}, {'RowId': 440, 'Incidents': 'High'}, {'RowId': 441, 'Incidents': 'Low'}, {'RowId': 442, 'Incidents': 'Very_High'}, {'RowId': 443, 'Incidents': 'High'}, {'RowId': 444, 'Incidents': 'Very_High'}, {'RowId': 445, 'Incidents': 'Medium'}, {'RowId': 446, 'Incidents': 'Low'}, {'RowId': 447, 'Incidents': 'None'}, {'RowId': 448, 'Incidents': 'High'}, {'RowId': 449, 'Incidents': 'Very_High'}, {'RowId': 450, 'Incidents': 'None'}, {'RowId': 451, 'Incidents': 'High'}, {'RowId': 452, 'Incidents': 'None'}, {'RowId': 453, 'Incidents': 'High'}, {'RowId': 454, 'Incidents': 'Low'}, {'RowId': 455, 'Incidents': 'High'}, {'RowId': 456, 'Incidents': 'None'}, {'RowId': 457, 'Incidents': 'High'}, {'RowId': 458, 'Incidents': 'High'}, {'RowId': 459, 'Incidents': 'Low'}, {'RowId': 460, 'Incidents': 'None'}, {'RowId': 461, 'Incidents': 'None'}, {'RowId': 462, 'Incidents': 'None'}, {'RowId': 463, 'Incidents': 'None'}, {'RowId': 464, 'Incidents': 'High'}, {'RowId': 465, 'Incidents': 'Very_High'}, {'RowId': 466, 'Incidents': 'None'}, {'RowId': 467, 'Incidents': 'Medium'}, {'RowId': 468, 'Incidents': 'High'}, {'RowId': 469, 'Incidents': 'Low'}, {'RowId': 470, 'Incidents': 'Low'}, {'RowId': 471, 'Incidents': 'High'}, {'RowId': 472, 'Incidents': 'None'}, {'RowId': 473, 'Incidents': 'Medium'}, {'RowId': 474, 'Incidents': 'None'}, {'RowId': 475, 'Incidents': 'Very_High'}, {'RowId': 476, 'Incidents': 'Medium'}, {'RowId': 477, 'Incidents': 'Very_High'}, {'RowId': 478, 'Incidents': 'None'}, {'RowId': 479, 'Incidents': 'None'}, {'RowId': 480, 'Incidents': 'Low'}, {'RowId': 481, 'Incidents': 'Low'}, {'RowId': 482, 'Incidents': 'None'}, {'RowId': 483, 'Incidents': 'High'}, {'RowId': 484, 'Incidents': 'None'}, {'RowId': 485, 'Incidents': 'High'}, {'RowId': 486, 'Incidents': 'None'}, {'RowId': 487, 'Incidents': 'None'}, {'RowId': 488, 'Incidents': 'High'}, {'RowId': 489, 'Incidents': 'None'}, {'RowId': 490, 'Incidents': 'High'}, {'RowId': 491, 'Incidents': 'None'}, {'RowId': 492, 'Incidents': 'None'}, {'RowId': 493, 'Incidents': 'Low'}, {'RowId': 494, 'Incidents': 'None'}, {'RowId': 495, 'Incidents': 'None'}, {'RowId': 496, 'Incidents': 'High'}, {'RowId': 497, 'Incidents': 'Low'}, {'RowId': 498, 'Incidents': 'Medium'}, {'RowId': 499, 'Incidents': 'None'}, {'RowId': 500, 'Incidents': 'None'}, {'RowId': 501, 'Incidents': 'None'}, {'RowId': 502, 'Incidents': 'None'}, {'RowId': 503, 'Incidents': 'None'}, {'RowId': 504, 'Incidents': 'High'}, {'RowId': 505, 'Incidents': 'High'}, {'RowId': 506, 'Incidents': 'High'}, {'RowId': 507, 'Incidents': 'None'}, {'RowId': 508, 'Incidents': 'None'}, {'RowId': 509, 'Incidents': 'None'}, {'RowId': 510, 'Incidents': 'Very_High'}, {'RowId': 511, 'Incidents': 'None'}, {'RowId': 512, 'Incidents': 'None'}, {'RowId': 513, 'Incidents': 'Medium'}, {'RowId': 514, 'Incidents': 'High'}, {'RowId': 515, 'Incidents': 'None'}, {'RowId': 516, 'Incidents': 'None'}, {'RowId': 517, 'Incidents': 'Low'}, {'RowId': 518, 'Incidents': 'None'}, {'RowId': 519, 'Incidents': 'High'}, {'RowId': 520, 'Incidents': 'High'}, {'RowId': 521, 'Incidents': 'Very_High'}, {'RowId': 522, 'Incidents': 'Medium'}, {'RowId': 523, 'Incidents': 'None'}, {'RowId': 524, 'Incidents': 'Very_High'}, {'RowId': 525, 'Incidents': 'None'}, {'RowId': 526, 'Incidents': 'High'}, {'RowId': 527, 'Incidents': 'None'}, {'RowId': 528, 'Incidents': 'None'}, {'RowId': 529, 'Incidents': 'None'}, {'RowId': 530, 'Incidents': 'Low'}, {'RowId': 531, 'Incidents': 'Very_High'}, {'RowId': 532, 'Incidents': 'None'}, {'RowId': 533, 'Incidents': 'Medium'}, {'RowId': 534, 'Incidents': 'Medium'}, {'RowId': 535, 'Incidents': 'None'}, {'RowId': 536, 'Incidents': 'Low'}, {'RowId': 537, 'Incidents': 'Medium'}, {'RowId': 538, 'Incidents': 'Low'}, {'RowId': 539, 'Incidents': 'None'}, {'RowId': 540, 'Incidents': 'Medium'}, {'RowId': 541, 'Incidents': 'Very_High'}, {'RowId': 542, 'Incidents': 'High'}, {'RowId': 543, 'Incidents': 'None'}, {'RowId': 544, 'Incidents': 'None'}, {'RowId': 545, 'Incidents': 'None'}, {'RowId': 546, 'Incidents': 'Very_High'}, {'RowId': 547, 'Incidents': 'Medium'}, {'RowId': 548, 'Incidents': 'High'}, {'RowId': 549, 'Incidents': 'Low'}, {'RowId': 550, 'Incidents': 'High'}, {'RowId': 551, 'Incidents': 'Medium'}, {'RowId': 552, 'Incidents': 'Low'}, {'RowId': 553, 'Incidents': 'High'}, {'RowId': 554, 'Incidents': 'High'}, {'RowId': 555, 'Incidents': 'None'}, {'RowId': 556, 'Incidents': 'None'}, {'RowId': 557, 'Incidents': 'Medium'}, {'RowId': 558, 'Incidents': 'High'}, {'RowId': 559, 'Incidents': 'Very_High'}, {'RowId': 560, 'Incidents': 'Very_High'}, {'RowId': 561, 'Incidents': 'None'}, {'RowId': 562, 'Incidents': 'Medium'}, {'RowId': 563, 'Incidents': 'None'}, {'RowId': 564, 'Incidents': 'Very_High'}, {'RowId': 565, 'Incidents': 'None'}, {'RowId': 566, 'Incidents': 'High'}, {'RowId': 567, 'Incidents': 'None'}, {'RowId': 568, 'Incidents': 'High'}, {'RowId': 569, 'Incidents': 'None'}, {'RowId': 570, 'Incidents': 'Very_High'}, {'RowId': 571, 'Incidents': 'None'}, {'RowId': 572, 'Incidents': 'None'}, {'RowId': 573, 'Incidents': 'Medium'}, {'RowId': 574, 'Incidents': 'Low'}, {'RowId': 575, 'Incidents': 'High'}, {'RowId': 576, 'Incidents': 'Low'}, {'RowId': 577, 'Incidents': 'Very_High'}, {'RowId': 578, 'Incidents': 'None'}, {'RowId': 579, 'Incidents': 'None'}, {'RowId': 580, 'Incidents': 'Medium'}, {'RowId': 581, 'Incidents': 'High'}, {'RowId': 582, 'Incidents': 'Low'}, {'RowId': 583, 'Incidents': 'High'}, {'RowId': 584, 'Incidents': 'Low'}, {'RowId': 585, 'Incidents': 'High'}, {'RowId': 586, 'Incidents': 'High'}, {'RowId': 587, 'Incidents': 'Very_High'}, {'RowId': 588, 'Incidents': 'High'}, {'RowId': 589, 'Incidents': 'None'}, {'RowId': 590, 'Incidents': 'Low'}, {'RowId': 591, 'Incidents': 'High'}, {'RowId': 592, 'Incidents': 'Very_High'}, {'RowId': 593, 'Incidents': 'High'}, {'RowId': 594, 'Incidents': 'None'}, {'RowId': 595, 'Incidents': 'None'}, {'RowId': 596, 'Incidents': 'Low'}, {'RowId': 597, 'Incidents': 'High'}, {'RowId': 598, 'Incidents': 'None'}, {'RowId': 599, 'Incidents': 'High'}, {'RowId': 600, 'Incidents': 'High'}, {'RowId': 601, 'Incidents': 'High'}, {'RowId': 602, 'Incidents': 'Low'}, {'RowId': 603, 'Incidents': 'None'}, {'RowId': 604, 'Incidents': 'None'}, {'RowId': 605, 'Incidents': 'Very_High'}, {'RowId': 606, 'Incidents': 'None'}, {'RowId': 607, 'Incidents': 'None'}, {'RowId': 608, 'Incidents': 'None'}, {'RowId': 609, 'Incidents': 'None'}, {'RowId': 610, 'Incidents': 'None'}, {'RowId': 611, 'Incidents': 'None'}, {'RowId': 612, 'Incidents': 'None'}, {'RowId': 613, 'Incidents': 'Very_High'}, {'RowId': 614, 'Incidents': 'High'}, {'RowId': 615, 'Incidents': 'Low'}, {'RowId': 616, 'Incidents': 'None'}, {'RowId': 617, 'Incidents': 'High'}, {'RowId': 618, 'Incidents': 'Low'}, {'RowId': 619, 'Incidents': 'None'}, {'RowId': 620, 'Incidents': 'High'}, {'RowId': 621, 'Incidents': 'None'}, {'RowId': 622, 'Incidents': 'Medium'}, {'RowId': 623, 'Incidents': 'None'}, {'RowId': 624, 'Incidents': 'Medium'}, {'RowId': 625, 'Incidents': 'High'}, {'RowId': 626, 'Incidents': 'High'}, {'RowId': 627, 'Incidents': 'Very_High'}, {'RowId': 628, 'Incidents': 'High'}, {'RowId': 629, 'Incidents': 'High'}, {'RowId': 630, 'Incidents': 'None'}, {'RowId': 631, 'Incidents': 'Very_High'}, {'RowId': 632, 'Incidents': 'None'}, {'RowId': 633, 'Incidents': 'None'}, {'RowId': 634, 'Incidents': 'None'}, {'RowId': 635, 'Incidents': 'Very_High'}, {'RowId': 636, 'Incidents': 'None'}, {'RowId': 637, 'Incidents': 'High'}, {'RowId': 638, 'Incidents': 'Very_High'}, {'RowId': 639, 'Incidents': 'None'}, {'RowId': 640, 'Incidents': 'Very_High'}, {'RowId': 641, 'Incidents': 'None'}, {'RowId': 642, 'Incidents': 'High'}, {'RowId': 643, 'Incidents': 'High'}, {'RowId': 644, 'Incidents': 'None'}, {'RowId': 645, 'Incidents': 'None'}, {'RowId': 646, 'Incidents': 'None'}, {'RowId': 647, 'Incidents': 'None'}, {'RowId': 648, 'Incidents': 'None'}, {'RowId': 649, 'Incidents': 'None'}, {'RowId': 650, 'Incidents': 'None'}, {'RowId': 651, 'Incidents': 'None'}, {'RowId': 652, 'Incidents': 'High'}, {'RowId': 653, 'Incidents': 'High'}, {'RowId': 654, 'Incidents': 'Medium'}, {'RowId': 655, 'Incidents': 'Low'}, {'RowId': 656, 'Incidents': 'Very_High'}, {'RowId': 657, 'Incidents': 'None'}, {'RowId': 658, 'Incidents': 'None'}, {'RowId': 659, 'Incidents': 'None'}, {'RowId': 660, 'Incidents': 'Medium'}, {'RowId': 661, 'Incidents': 'High'}, {'RowId': 662, 'Incidents': 'High'}, {'RowId': 663, 'Incidents': 'High'}, {'RowId': 664, 'Incidents': 'None'}, {'RowId': 665, 'Incidents': 'High'}, {'RowId': 666, 'Incidents': 'High'}, {'RowId': 667, 'Incidents': 'High'}, {'RowId': 668, 'Incidents': 'Very_High'}, {'RowId': 669, 'Incidents': 'High'}, {'RowId': 670, 'Incidents': 'High'}, {'RowId': 671, 'Incidents': 'Low'}, {'RowId': 672, 'Incidents': 'Very_High'}, {'RowId': 673, 'Incidents': 'None'}, {'RowId': 674, 'Incidents': 'High'}, {'RowId': 675, 'Incidents': 'Low'}, {'RowId': 676, 'Incidents': 'None'}, {'RowId': 677, 'Incidents': 'Low'}, {'RowId': 678, 'Incidents': 'None'}, {'RowId': 679, 'Incidents': 'None'}, {'RowId': 680, 'Incidents': 'High'}, {'RowId': 681, 'Incidents': 'Very_High'}, {'RowId': 682, 'Incidents': 'None'}, {'RowId': 683, 'Incidents': 'None'}, {'RowId': 684, 'Incidents': 'None'}, {'RowId': 685, 'Incidents': 'Medium'}, {'RowId': 686, 'Incidents': 'Very_High'}, {'RowId': 687, 'Incidents': 'High'}, {'RowId': 688, 'Incidents': 'None'}, {'RowId': 689, 'Incidents': 'None'}, {'RowId': 690, 'Incidents': 'Very_High'}, {'RowId': 691, 'Incidents': 'None'}, {'RowId': 692, 'Incidents': 'Low'}, {'RowId': 693, 'Incidents': 'None'}, {'RowId': 694, 'Incidents': 'High'}, {'RowId': 695, 'Incidents': 'None'}, {'RowId': 696, 'Incidents': 'High'}, {'RowId': 697, 'Incidents': 'Very_High'}, {'RowId': 698, 'Incidents': 'Very_High'}, {'RowId': 699, 'Incidents': 'None'}, {'RowId': 700, 'Incidents': 'Low'}, {'RowId': 701, 'Incidents': 'None'}, {'RowId': 702, 'Incidents': 'Low'}, {'RowId': 703, 'Incidents': 'High'}, {'RowId': 704, 'Incidents': 'Low'}, {'RowId': 705, 'Incidents': 'High'}, {'RowId': 706, 'Incidents': 'High'}, {'RowId': 707, 'Incidents': 'Very_High'}, {'RowId': 708, 'Incidents': 'Medium'}, {'RowId': 709, 'Incidents': 'Low'}, {'RowId': 710, 'Incidents': 'Very_High'}, {'RowId': 711, 'Incidents': 'None'}, {'RowId': 712, 'Incidents': 'High'}, {'RowId': 713, 'Incidents': 'Very_High'}, {'RowId': 714, 'Incidents': 'High'}, {'RowId': 715, 'Incidents': 'Low'}, {'RowId': 716, 'Incidents': 'None'}, {'RowId': 717, 'Incidents': 'Medium'}, {'RowId': 718, 'Incidents': 'None'}, {'RowId': 719, 'Incidents': 'None'}, {'RowId': 720, 'Incidents': 'Very_High'}, {'RowId': 721, 'Incidents': 'Very_High'}, {'RowId': 722, 'Incidents': 'None'}, {'RowId': 723, 'Incidents': 'High'}, {'RowId': 724, 'Incidents': 'High'}, {'RowId': 725, 'Incidents': 'None'}, {'RowId': 726, 'Incidents': 'None'}, {'RowId': 727, 'Incidents': 'None'}, {'RowId': 728, 'Incidents': 'Medium'}, {'RowId': 729, 'Incidents': 'None'}, {'RowId': 730, 'Incidents': 'None'}, {'RowId': 731, 'Incidents': 'Medium'}, {'RowId': 732, 'Incidents': 'None'}, {'RowId': 733, 'Incidents': 'Very_High'}, {'RowId': 734, 'Incidents': 'High'}, {'RowId': 735, 'Incidents': 'High'}, {'RowId': 736, 'Incidents': 'High'}, {'RowId': 737, 'Incidents': 'Very_High'}, {'RowId': 738, 'Incidents': 'High'}, {'RowId': 739, 'Incidents': 'Low'}, {'RowId': 740, 'Incidents': 'None'}, {'RowId': 741, 'Incidents': 'Low'}, {'RowId': 742, 'Incidents': 'High'}, {'RowId': 743, 'Incidents': 'None'}, {'RowId': 744, 'Incidents': 'None'}, {'RowId': 745, 'Incidents': 'High'}, {'RowId': 746, 'Incidents': 'Very_High'}, {'RowId': 747, 'Incidents': 'Very_High'}, {'RowId': 748, 'Incidents': 'Very_High'}, {'RowId': 749, 'Incidents': 'High'}, {'RowId': 750, 'Incidents': 'High'}, {'RowId': 751, 'Incidents': 'None'}, {'RowId': 752, 'Incidents': 'Low'}, {'RowId': 753, 'Incidents': 'Medium'}, {'RowId': 754, 'Incidents': 'Low'}, {'RowId': 755, 'Incidents': 'None'}, {'RowId': 756, 'Incidents': 'High'}, {'RowId': 757, 'Incidents': 'High'}, {'RowId': 758, 'Incidents': 'High'}, {'RowId': 759, 'Incidents': 'Very_High'}, {'RowId': 760, 'Incidents': 'None'}, {'RowId': 761, 'Incidents': 'None'}, {'RowId': 762, 'Incidents': 'Medium'}, {'RowId': 763, 'Incidents': 'Low'}, {'RowId': 764, 'Incidents': 'High'}, {'RowId': 765, 'Incidents': 'High'}, {'RowId': 766, 'Incidents': 'None'}, {'RowId': 767, 'Incidents': 'Very_High'}, {'RowId': 768, 'Incidents': 'Low'}, {'RowId': 769, 'Incidents': 'None'}, {'RowId': 770, 'Incidents': 'Very_High'}, {'RowId': 771, 'Incidents': 'Low'}, {'RowId': 772, 'Incidents': 'None'}, {'RowId': 773, 'Incidents': 'Medium'}, {'RowId': 774, 'Incidents': 'Medium'}, {'RowId': 775, 'Incidents': 'Very_High'}, {'RowId': 776, 'Incidents': 'None'}, {'RowId': 777, 'Incidents': 'None'}, {'RowId': 778, 'Incidents': 'Very_High'}, {'RowId': 779, 'Incidents': 'Very_High'}, {'RowId': 780, 'Incidents': 'High'}, {'RowId': 781, 'Incidents': 'Medium'}, {'RowId': 782, 'Incidents': 'Very_High'}, {'RowId': 783, 'Incidents': 'None'}, {'RowId': 784, 'Incidents': 'None'}, {'RowId': 785, 'Incidents': 'Medium'}, {'RowId': 786, 'Incidents': 'Medium'}, {'RowId': 787, 'Incidents': 'High'}, {'RowId': 788, 'Incidents': 'High'}, {'RowId': 789, 'Incidents': 'High'}, {'RowId': 790, 'Incidents': 'High'}, {'RowId': 791, 'Incidents': 'High'}, {'RowId': 792, 'Incidents': 'None'}, {'RowId': 793, 'Incidents': 'None'}, {'RowId': 794, 'Incidents': 'None'}, {'RowId': 795, 'Incidents': 'None'}, {'RowId': 796, 'Incidents': 'High'}, {'RowId': 797, 'Incidents': 'High'}, {'RowId': 798, 'Incidents': 'Low'}, {'RowId': 799, 'Incidents': 'None'}, {'RowId': 800, 'Incidents': 'Very_High'}, {'RowId': 801, 'Incidents': 'None'}, {'RowId': 802, 'Incidents': 'None'}, {'RowId': 803, 'Incidents': 'None'}, {'RowId': 804, 'Incidents': 'None'}, {'RowId': 805, 'Incidents': 'High'}, {'RowId': 806, 'Incidents': 'None'}, {'RowId': 807, 'Incidents': 'Very_High'}, {'RowId': 808, 'Incidents': 'Low'}, {'RowId': 809, 'Incidents': 'Very_High'}, {'RowId': 810, 'Incidents': 'None'}, {'RowId': 811, 'Incidents': 'Medium'}, {'RowId': 812, 'Incidents': 'None'}, {'RowId': 813, 'Incidents': 'High'}, {'RowId': 814, 'Incidents': 'None'}, {'RowId': 815, 'Incidents': 'Very_High'}, {'RowId': 816, 'Incidents': 'High'}, {'RowId': 817, 'Incidents': 'None'}, {'RowId': 818, 'Incidents': 'None'}, {'RowId': 819, 'Incidents': 'Low'}, {'RowId': 820, 'Incidents': 'High'}, {'RowId': 821, 'Incidents': 'None'}, {'RowId': 822, 'Incidents': 'Very_High'}, {'RowId': 823, 'Incidents': 'High'}, {'RowId': 824, 'Incidents': 'None'}, {'RowId': 825, 'Incidents': 'Low'}, {'RowId': 826, 'Incidents': 'High'}, {'RowId': 827, 'Incidents': 'None'}, {'RowId': 828, 'Incidents': 'High'}, {'RowId': 829, 'Incidents': 'High'}, {'RowId': 830, 'Incidents': 'Medium'}, {'RowId': 831, 'Incidents': 'High'}, {'RowId': 832, 'Incidents': 'None'}, {'RowId': 833, 'Incidents': 'High'}, {'RowId': 834, 'Incidents': 'None'}, {'RowId': 835, 'Incidents': 'None'}, {'RowId': 836, 'Incidents': 'High'}, {'RowId': 837, 'Incidents': 'High'}, {'RowId': 838, 'Incidents': 'High'}, {'RowId': 839, 'Incidents': 'None'}, {'RowId': 840, 'Incidents': 'Very_High'}, {'RowId': 841, 'Incidents': 'Medium'}, {'RowId': 842, 'Incidents': 'Very_High'}, {'RowId': 843, 'Incidents': 'None'}, {'RowId': 844, 'Incidents': 'Low'}, {'RowId': 845, 'Incidents': 'Very_High'}, {'RowId': 846, 'Incidents': 'Very_High'}, {'RowId': 847, 'Incidents': 'None'}, {'RowId': 848, 'Incidents': 'None'}, {'RowId': 849, 'Incidents': 'Low'}, {'RowId': 850, 'Incidents': 'Medium'}, {'RowId': 851, 'Incidents': 'High'}, {'RowId': 852, 'Incidents': 'High'}, {'RowId': 853, 'Incidents': 'None'}, {'RowId': 854, 'Incidents': 'Medium'}, {'RowId': 855, 'Incidents': 'High'}, {'RowId': 856, 'Incidents': 'None'}, {'RowId': 857, 'Incidents': 'None'}, {'RowId': 858, 'Incidents': 'Low'}, {'RowId': 859, 'Incidents': 'None'}, {'RowId': 860, 'Incidents': 'None'}, {'RowId': 861, 'Incidents': 'None'}, {'RowId': 862, 'Incidents': 'Low'}, {'RowId': 863, 'Incidents': 'Low'}, {'RowId': 864, 'Incidents': 'Low'}, {'RowId': 865, 'Incidents': 'Medium'}, {'RowId': 866, 'Incidents': 'None'}, {'RowId': 867, 'Incidents': 'None'}, {'RowId': 868, 'Incidents': 'Low'}, {'RowId': 869, 'Incidents': 'Low'}, {'RowId': 870, 'Incidents': 'None'}, {'RowId': 871, 'Incidents': 'High'}, {'RowId': 872, 'Incidents': 'Low'}, {'RowId': 873, 'Incidents': 'High'}, {'RowId': 874, 'Incidents': 'Medium'}, {'RowId': 875, 'Incidents': 'High'}, {'RowId': 876, 'Incidents': 'None'}, {'RowId': 877, 'Incidents': 'High'}, {'RowId': 878, 'Incidents': 'High'}, {'RowId': 879, 'Incidents': 'None'}, {'RowId': 880, 'Incidents': 'High'}, {'RowId': 881, 'Incidents': 'Medium'}, {'RowId': 882, 'Incidents': 'None'}, {'RowId': 883, 'Incidents': 'Medium'}, {'RowId': 884, 'Incidents': 'None'}, {'RowId': 885, 'Incidents': 'High'}, {'RowId': 886, 'Incidents': 'None'}, {'RowId': 887, 'Incidents': 'Very_High'}, {'RowId': 888, 'Incidents': 'Very_High'}, {'RowId': 889, 'Incidents': 'None'}, {'RowId': 890, 'Incidents': 'High'}, {'RowId': 891, 'Incidents': 'High'}, {'RowId': 892, 'Incidents': 'High'}, {'RowId': 893, 'Incidents': 'High'}, {'RowId': 894, 'Incidents': 'High'}, {'RowId': 895, 'Incidents': 'None'}, {'RowId': 896, 'Incidents': 'None'}, {'RowId': 897, 'Incidents': 'None'}, {'RowId': 898, 'Incidents': 'None'}, {'RowId': 899, 'Incidents': 'Low'}, {'RowId': 900, 'Incidents': 'High'}, {'RowId': 901, 'Incidents': 'High'}, {'RowId': 902, 'Incidents': 'Very_High'}, {'RowId': 903, 'Incidents': 'Very_High'}, {'RowId': 904, 'Incidents': 'None'}, {'RowId': 905, 'Incidents': 'None'}, {'RowId': 906, 'Incidents': 'None'}, {'RowId': 907, 'Incidents': 'High'}, {'RowId': 908, 'Incidents': 'None'}, {'RowId': 909, 'Incidents': 'High'}, {'RowId': 910, 'Incidents': 'Medium'}, {'RowId': 911, 'Incidents': 'None'}, {'RowId': 912, 'Incidents': 'None'}, {'RowId': 913, 'Incidents': 'None'}, {'RowId': 914, 'Incidents': 'None'}, {'RowId': 915, 'Incidents': 'Low'}, {'RowId': 916, 'Incidents': 'None'}, {'RowId': 917, 'Incidents': 'None'}, {'RowId': 918, 'Incidents': 'High'}, {'RowId': 919, 'Incidents': 'Very_High'}, {'RowId': 920, 'Incidents': 'Medium'}, {'RowId': 921, 'Incidents': 'Medium'}, {'RowId': 922, 'Incidents': 'High'}, {'RowId': 923, 'Incidents': 'None'}, {'RowId': 924, 'Incidents': 'Very_High'}, {'RowId': 925, 'Incidents': 'None'}, {'RowId': 926, 'Incidents': 'High'}, {'RowId': 927, 'Incidents': 'Very_High'}, {'RowId': 928, 'Incidents': 'Very_High'}, {'RowId': 929, 'Incidents': 'Medium'}, {'RowId': 930, 'Incidents': 'Medium'}, {'RowId': 931, 'Incidents': 'None'}, {'RowId': 932, 'Incidents': 'Medium'}, {'RowId': 933, 'Incidents': 'High'}, {'RowId': 934, 'Incidents': 'Low'}, {'RowId': 935, 'Incidents': 'Medium'}, {'RowId': 936, 'Incidents': 'Low'}, {'RowId': 937, 'Incidents': 'High'}, {'RowId': 938, 'Incidents': 'None'}, {'RowId': 939, 'Incidents': 'Very_High'}, {'RowId': 940, 'Incidents': 'None'}, {'RowId': 941, 'Incidents': 'None'}, {'RowId': 942, 'Incidents': 'None'}, {'RowId': 943, 'Incidents': 'Very_High'}, {'RowId': 944, 'Incidents': 'High'}, {'RowId': 945, 'Incidents': 'High'}, {'RowId': 946, 'Incidents': 'None'}, {'RowId': 947, 'Incidents': 'Low'}, {'RowId': 948, 'Incidents': 'None'}, {'RowId': 949, 'Incidents': 'None'}, {'RowId': 950, 'Incidents': 'None'}, {'RowId': 951, 'Incidents': 'Low'}, {'RowId': 952, 'Incidents': 'None'}, {'RowId': 953, 'Incidents': 'High'}, {'RowId': 954, 'Incidents': 'None'}, {'RowId': 955, 'Incidents': 'None'}, {'RowId': 956, 'Incidents': 'None'}, {'RowId': 957, 'Incidents': 'None'}, {'RowId': 958, 'Incidents': 'Very_High'}, {'RowId': 959, 'Incidents': 'High'}, {'RowId': 960, 'Incidents': 'None'}, {'RowId': 961, 'Incidents': 'Very_High'}, {'RowId': 962, 'Incidents': 'High'}, {'RowId': 963, 'Incidents': 'None'}, {'RowId': 964, 'Incidents': 'Low'}, {'RowId': 965, 'Incidents': 'Low'}, {'RowId': 966, 'Incidents': 'Low'}, {'RowId': 967, 'Incidents': 'None'}, {'RowId': 968, 'Incidents': 'High'}, {'RowId': 969, 'Incidents': 'None'}, {'RowId': 970, 'Incidents': 'None'}, {'RowId': 971, 'Incidents': 'High'}, {'RowId': 972, 'Incidents': 'Very_High'}, {'RowId': 973, 'Incidents': 'Medium'}, {'RowId': 974, 'Incidents': 'Very_High'}, {'RowId': 975, 'Incidents': 'None'}, {'RowId': 976, 'Incidents': 'Medium'}, {'RowId': 977, 'Incidents': 'High'}, {'RowId': 978, 'Incidents': 'None'}, {'RowId': 979, 'Incidents': 'Very_High'}, {'RowId': 980, 'Incidents': 'None'}, {'RowId': 981, 'Incidents': 'None'}, {'RowId': 982, 'Incidents': 'Medium'}, {'RowId': 983, 'Incidents': 'None'}, {'RowId': 984, 'Incidents': 'None'}, {'RowId': 985, 'Incidents': 'Medium'}, {'RowId': 986, 'Incidents': 'None'}, {'RowId': 987, 'Incidents': 'None'}, {'RowId': 988, 'Incidents': 'None'}, {'RowId': 989, 'Incidents': 'None'}, {'RowId': 990, 'Incidents': 'High'}, {'RowId': 991, 'Incidents': 'Medium'}, {'RowId': 992, 'Incidents': 'High'}, {'RowId': 993, 'Incidents': 'High'}, {'RowId': 994, 'Incidents': 'Very_High'}, {'RowId': 995, 'Incidents': 'Low'}, {'RowId': 996, 'Incidents': 'Very_High'}, {'RowId': 997, 'Incidents': 'None'}, {'RowId': 998, 'Incidents': 'Low'}, {'RowId': 999, 'Incidents': 'Low'}, {'RowId': 1000, 'Incidents': 'Medium'}, {'RowId': 1001, 'Incidents': 'Low'}, {'RowId': 1002, 'Incidents': 'Low'}, {'RowId': 1003, 'Incidents': 'Very_High'}, {'RowId': 1004, 'Incidents': 'None'}, {'RowId': 1005, 'Incidents': 'None'}, {'RowId': 1006, 'Incidents': 'None'}, {'RowId': 1007, 'Incidents': 'None'}, {'RowId': 1008, 'Incidents': 'None'}, {'RowId': 1009, 'Incidents': 'Medium'}, {'RowId': 1010, 'Incidents': 'None'}, {'RowId': 1011, 'Incidents': 'High'}, {'RowId': 1012, 'Incidents': 'None'}, {'RowId': 1013, 'Incidents': 'Medium'}, {'RowId': 1014, 'Incidents': 'None'}, {'RowId': 1015, 'Incidents': 'None'}, {'RowId': 1016, 'Incidents': 'Very_High'}, {'RowId': 1017, 'Incidents': 'None'}, {'RowId': 1018, 'Incidents': 'Very_High'}, {'RowId': 1019, 'Incidents': 'Medium'}, {'RowId': 1020, 'Incidents': 'None'}, {'RowId': 1021, 'Incidents': 'None'}, {'RowId': 1022, 'Incidents': 'None'}, {'RowId': 1023, 'Incidents': 'None'}, {'RowId': 1024, 'Incidents': 'None'}, {'RowId': 1025, 'Incidents': 'High'}, {'RowId': 1026, 'Incidents': 'High'}, {'RowId': 1027, 'Incidents': 'Medium'}, {'RowId': 1028, 'Incidents': 'None'}, {'RowId': 1029, 'Incidents': 'Low'}, {'RowId': 1030, 'Incidents': 'Very_High'}, {'RowId': 1031, 'Incidents': 'None'}, {'RowId': 1032, 'Incidents': 'None'}, {'RowId': 1033, 'Incidents': 'Low'}, {'RowId': 1034, 'Incidents': 'None'}, {'RowId': 1035, 'Incidents': 'High'}, {'RowId': 1036, 'Incidents': 'High'}, {'RowId': 1037, 'Incidents': 'None'}, {'RowId': 1038, 'Incidents': 'High'}, {'RowId': 1039, 'Incidents': 'None'}, {'RowId': 1040, 'Incidents': 'High'}, {'RowId': 1041, 'Incidents': 'None'}, {'RowId': 1042, 'Incidents': 'High'}, {'RowId': 1043, 'Incidents': 'None'}, {'RowId': 1044, 'Incidents': 'High'}, {'RowId': 1045, 'Incidents': 'None'}, {'RowId': 1046, 'Incidents': 'High'}, {'RowId': 1047, 'Incidents': 'Very_High'}, {'RowId': 1048, 'Incidents': 'None'}, {'RowId': 1049, 'Incidents': 'None'}, {'RowId': 1050, 'Incidents': 'Very_High'}, {'RowId': 1051, 'Incidents': 'High'}, {'RowId': 1052, 'Incidents': 'High'}, {'RowId': 1053, 'Incidents': 'Medium'}, {'RowId': 1054, 'Incidents': 'Low'}, {'RowId': 1055, 'Incidents': 'None'}, {'RowId': 1056, 'Incidents': 'None'}, {'RowId': 1057, 'Incidents': 'None'}, {'RowId': 1058, 'Incidents': 'Very_High'}, {'RowId': 1059, 'Incidents': 'Medium'}, {'RowId': 1060, 'Incidents': 'Very_High'}, {'RowId': 1061, 'Incidents': 'Very_High'}, {'RowId': 1062, 'Incidents': 'High'}, {'RowId': 1063, 'Incidents': 'Medium'}, {'RowId': 1064, 'Incidents': 'High'}, {'RowId': 1065, 'Incidents': 'Very_High'}, {'RowId': 1066, 'Incidents': 'Medium'}, {'RowId': 1067, 'Incidents': 'High'}, {'RowId': 1068, 'Incidents': 'Very_High'}, {'RowId': 1069, 'Incidents': 'High'}, {'RowId': 1070, 'Incidents': 'Low'}, {'RowId': 1071, 'Incidents': 'Low'}, {'RowId': 1072, 'Incidents': 'Very_High'}, {'RowId': 1073, 'Incidents': 'None'}, {'RowId': 1074, 'Incidents': 'Medium'}, {'RowId': 1075, 'Incidents': 'Low'}, {'RowId': 1076, 'Incidents': 'None'}, {'RowId': 1077, 'Incidents': 'Very_High'}, {'RowId': 1078, 'Incidents': 'Very_High'}, {'RowId': 1079, 'Incidents': 'High'}, {'RowId': 1080, 'Incidents': 'None'}, {'RowId': 1081, 'Incidents': 'Low'}, {'RowId': 1082, 'Incidents': 'High'}, {'RowId': 1083, 'Incidents': 'Medium'}, {'RowId': 1084, 'Incidents': 'None'}, {'RowId': 1085, 'Incidents': 'None'}, {'RowId': 1086, 'Incidents': 'None'}, {'RowId': 1087, 'Incidents': 'Very_High'}, {'RowId': 1088, 'Incidents': 'Very_High'}, {'RowId': 1089, 'Incidents': 'None'}, {'RowId': 1090, 'Incidents': 'Medium'}, {'RowId': 1091, 'Incidents': 'High'}, {'RowId': 1092, 'Incidents': 'None'}, {'RowId': 1093, 'Incidents': 'High'}, {'RowId': 1094, 'Incidents': 'Medium'}, {'RowId': 1095, 'Incidents': 'None'}, {'RowId': 1096, 'Incidents': 'High'}, {'RowId': 1097, 'Incidents': 'High'}, {'RowId': 1098, 'Incidents': 'None'}, {'RowId': 1099, 'Incidents': 'None'}, {'RowId': 1100, 'Incidents': 'None'}, {'RowId': 1101, 'Incidents': 'None'}, {'RowId': 1102, 'Incidents': 'None'}, {'RowId': 1103, 'Incidents': 'None'}, {'RowId': 1104, 'Incidents': 'None'}, {'RowId': 1105, 'Incidents': 'None'}, {'RowId': 1106, 'Incidents': 'None'}, {'RowId': 1107, 'Incidents': 'None'}, {'RowId': 1108, 'Incidents': 'Low'}, {'RowId': 1109, 'Incidents': 'Very_High'}, {'RowId': 1110, 'Incidents': 'None'}, {'RowId': 1111, 'Incidents': 'High'}, {'RowId': 1112, 'Incidents': 'None'}, {'RowId': 1113, 'Incidents': 'None'}, {'RowId': 1114, 'Incidents': 'None'}, {'RowId': 1115, 'Incidents': 'High'}, {'RowId': 1116, 'Incidents': 'Medium'}, {'RowId': 1117, 'Incidents': 'High'}, {'RowId': 1118, 'Incidents': 'Medium'}, {'RowId': 1119, 'Incidents': 'Low'}, {'RowId': 1120, 'Incidents': 'None'}, {'RowId': 1121, 'Incidents': 'Very_High'}, {'RowId': 1122, 'Incidents': 'None'}, {'RowId': 1123, 'Incidents': 'None'}, {'RowId': 1124, 'Incidents': 'Medium'}, {'RowId': 1125, 'Incidents': 'Medium'}, {'RowId': 1126, 'Incidents': 'None'}, {'RowId': 1127, 'Incidents': 'None'}, {'RowId': 1128, 'Incidents': 'High'}, {'RowId': 1129, 'Incidents': 'None'}, {'RowId': 1130, 'Incidents': 'Low'}, {'RowId': 1131, 'Incidents': 'None'}, {'RowId': 1132, 'Incidents': 'None'}, {'RowId': 1133, 'Incidents': 'Medium'}, {'RowId': 1134, 'Incidents': 'High'}, {'RowId': 1135, 'Incidents': 'Very_High'}, {'RowId': 1136, 'Incidents': 'High'}, {'RowId': 1137, 'Incidents': 'Very_High'}, {'RowId': 1138, 'Incidents': 'Low'}, {'RowId': 1139, 'Incidents': 'High'}, {'RowId': 1140, 'Incidents': 'High'}, {'RowId': 1141, 'Incidents': 'Low'}, {'RowId': 1142, 'Incidents': 'Low'}, {'RowId': 1143, 'Incidents': 'High'}, {'RowId': 1144, 'Incidents': 'High'}, {'RowId': 1145, 'Incidents': 'High'}, {'RowId': 1146, 'Incidents': 'Low'}, {'RowId': 1147, 'Incidents': 'High'}, {'RowId': 1148, 'Incidents': 'Low'}, {'RowId': 1149, 'Incidents': 'None'}, {'RowId': 1150, 'Incidents': 'None'}, {'RowId': 1151, 'Incidents': 'None'}, {'RowId': 1152, 'Incidents': 'None'}, {'RowId': 1153, 'Incidents': 'High'}, {'RowId': 1154, 'Incidents': 'None'}, {'RowId': 1155, 'Incidents': 'High'}, {'RowId': 1156, 'Incidents': 'None'}, {'RowId': 1157, 'Incidents': 'High'}, {'RowId': 1158, 'Incidents': 'Very_High'}, {'RowId': 1159, 'Incidents': 'None'}, {'RowId': 1160, 'Incidents': 'Very_High'}, {'RowId': 1161, 'Incidents': 'None'}, {'RowId': 1162, 'Incidents': 'High'}, {'RowId': 1163, 'Incidents': 'Low'}, {'RowId': 1164, 'Incidents': 'None'}, {'RowId': 1165, 'Incidents': 'None'}, {'RowId': 1166, 'Incidents': 'Medium'}, {'RowId': 1167, 'Incidents': 'None'}, {'RowId': 1168, 'Incidents': 'None'}, {'RowId': 1169, 'Incidents': 'Low'}, {'RowId': 1170, 'Incidents': 'Very_High'}, {'RowId': 1171, 'Incidents': 'Low'}, {'RowId': 1172, 'Incidents': 'None'}, {'RowId': 1173, 'Incidents': 'None'}, {'RowId': 1174, 'Incidents': 'None'}, {'RowId': 1175, 'Incidents': 'None'}, {'RowId': 1176, 'Incidents': 'None'}, {'RowId': 1177, 'Incidents': 'High'}, {'RowId': 1178, 'Incidents': 'Medium'}, {'RowId': 1179, 'Incidents': 'None'}, {'RowId': 1180, 'Incidents': 'Medium'}, {'RowId': 1181, 'Incidents': 'Medium'}, {'RowId': 1182, 'Incidents': 'High'}, {'RowId': 1183, 'Incidents': 'None'}, {'RowId': 1184, 'Incidents': 'Low'}, {'RowId': 1185, 'Incidents': 'Low'}, {'RowId': 1186, 'Incidents': 'None'}, {'RowId': 1187, 'Incidents': 'Low'}, {'RowId': 1188, 'Incidents': 'High'}, {'RowId': 1189, 'Incidents': 'High'}, {'RowId': 1190, 'Incidents': 'Low'}, {'RowId': 1191, 'Incidents': 'High'}, {'RowId': 1192, 'Incidents': 'High'}, {'RowId': 1193, 'Incidents': 'High'}, {'RowId': 1194, 'Incidents': 'None'}, {'RowId': 1195, 'Incidents': 'Low'}, {'RowId': 1196, 'Incidents': 'None'}, {'RowId': 1197, 'Incidents': 'None'}, {'RowId': 1198, 'Incidents': 'High'}, {'RowId': 1199, 'Incidents': 'None'}, {'RowId': 1200, 'Incidents': 'Very_High'}, {'RowId': 1201, 'Incidents': 'None'}, {'RowId': 1202, 'Incidents': 'None'}, {'RowId': 1203, 'Incidents': 'Low'}, {'RowId': 1204, 'Incidents': 'Medium'}, {'RowId': 1205, 'Incidents': 'Low'}, {'RowId': 1206, 'Incidents': 'High'}]\n"
     ]
    }
   ],
   "source": [
    "#replace_map = {'incidents' : {'None': 0, 'Low': 1, 'Medium': 2, 'High': 3, 'Very_High':4}}\n",
    "\n",
    "outcome = []\n",
    "for i in range(len(predictions_dt)):\n",
    "    if predictions_dt[i] == 0:\n",
    "        outcome.append({'RowId' : i+1 , 'Incidents' : 'None'})\n",
    "    elif predictions_dt[i] == 1:\n",
    "        outcome.append({'RowId' : i+1 , 'Incidents' : 'Low'})\n",
    "    elif predictions_dt[i] == 2:\n",
    "        outcome.append({'RowId' : i+1 , 'Incidents' : 'Medium'})\n",
    "    elif predictions_dt[i] == 3:\n",
    "        outcome.append({'RowId' : i+1 , 'Incidents' : 'High'})\n",
    "    elif predictions_dt[i] == 4:\n",
    "        outcome.append({'RowId' : i+1 , 'Incidents' : 'Very_High'})\n",
    "    \n",
    "print(outcome)\n",
    "od = pd.DataFrame(outcome)\n",
    "od.to_csv(\"out_file.csv\", index=False,header=True)\n",
    "\n"
   ]
  },
  {
   "cell_type": "code",
   "execution_count": null,
   "metadata": {},
   "outputs": [],
   "source": []
  }
 ],
 "metadata": {
  "kernelspec": {
   "display_name": "Python 3 (ipykernel)",
   "language": "python",
   "name": "python3"
  },
  "language_info": {
   "codemirror_mode": {
    "name": "ipython",
    "version": 3
   },
   "file_extension": ".py",
   "mimetype": "text/x-python",
   "name": "python",
   "nbconvert_exporter": "python",
   "pygments_lexer": "ipython3",
   "version": "3.7.0"
  },
  "vscode": {
   "interpreter": {
    "hash": "d7d4123a14122269993574e97116632081bf78a5388d294790e15056d594f739"
   }
  }
 },
 "nbformat": 4,
 "nbformat_minor": 4
}
